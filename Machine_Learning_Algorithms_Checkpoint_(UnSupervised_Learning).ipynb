{
  "nbformat": 4,
  "nbformat_minor": 0,
  "metadata": {
    "colab": {
      "provenance": [],
      "authorship_tag": "ABX9TyMld9ZHCkbCgK48ETVaSik2",
      "include_colab_link": true
    },
    "kernelspec": {
      "name": "python3",
      "display_name": "Python 3"
    },
    "language_info": {
      "name": "python"
    }
  },
  "cells": [
    {
      "cell_type": "markdown",
      "metadata": {
        "id": "view-in-github",
        "colab_type": "text"
      },
      "source": [
        "<a href=\"https://colab.research.google.com/github/Seunsoipe/Machine-Learning-Algorithms-Checkpoint/blob/main/Machine_Learning_Algorithms_Checkpoint_(UnSupervised_Learning).ipynb\" target=\"_parent\"><img src=\"https://colab.research.google.com/assets/colab-badge.svg\" alt=\"Open In Colab\"/></a>"
      ]
    },
    {
      "cell_type": "markdown",
      "source": [
        "Objective\n",
        "\n",
        "In this checkpoint, we are going to predict if a patient has chronic kidney disease or not using several classification algorithms of supervised learning. Then we will identify the inherent clusters within our data using clustering algorithms of unsupervised learning.\n",
        "\n",
        "Instructions\n",
        "\n",
        "Part1: supervised learning\n",
        "\n",
        "Load the dataset of kidney disease.\n",
        "\n",
        "\n",
        "- Apply logistic regression, and print the confusion matrix to validate your model. \n",
        "\n",
        "- Apply KNN and choose the optimal number of neighbors\n",
        "\n",
        "- Apply decision tree, plot it and calculate the accuracy.\n",
        "\n",
        "- Apply random forest, calculate the new accuracy and compare it with the previous result.\n",
        "\n",
        "Part2: unsupervised learning\n",
        "\n",
        "Drop out the target variable (named “classification”)\n",
        "\n",
        " - Use hierarchical clustering to identify the inherent groupings within your data.\n",
        "\n",
        " - Plot the clusters.\n",
        "\n",
        " - Plot the dendrogram. Use k-means clustering and select the optimal k.\n",
        " \n",
        " - Plot the clusters. "
      ],
      "metadata": {
        "id": "eZrGplnrthD6"
      }
    },
    {
      "cell_type": "code",
      "execution_count": 1,
      "metadata": {
        "id": "I0XS8KEsjGgX"
      },
      "outputs": [],
      "source": [
        "import pandas as pd"
      ]
    },
    {
      "cell_type": "code",
      "source": [
        "from google.colab import files\n",
        "\n",
        "uploaded = files.upload()"
      ],
      "metadata": {
        "colab": {
          "base_uri": "https://localhost:8080/",
          "height": 74
        },
        "id": "M4cMli4TjWPk",
        "outputId": "d9f64513-79c8-4c33-dff0-5f3722e61cfd"
      },
      "execution_count": 2,
      "outputs": [
        {
          "output_type": "display_data",
          "data": {
            "text/plain": [
              "<IPython.core.display.HTML object>"
            ],
            "text/html": [
              "\n",
              "     <input type=\"file\" id=\"files-106a5e27-c5a7-434e-b659-1256e0fc5e41\" name=\"files[]\" multiple disabled\n",
              "        style=\"border:none\" />\n",
              "     <output id=\"result-106a5e27-c5a7-434e-b659-1256e0fc5e41\">\n",
              "      Upload widget is only available when the cell has been executed in the\n",
              "      current browser session. Please rerun this cell to enable.\n",
              "      </output>\n",
              "      <script>// Copyright 2017 Google LLC\n",
              "//\n",
              "// Licensed under the Apache License, Version 2.0 (the \"License\");\n",
              "// you may not use this file except in compliance with the License.\n",
              "// You may obtain a copy of the License at\n",
              "//\n",
              "//      http://www.apache.org/licenses/LICENSE-2.0\n",
              "//\n",
              "// Unless required by applicable law or agreed to in writing, software\n",
              "// distributed under the License is distributed on an \"AS IS\" BASIS,\n",
              "// WITHOUT WARRANTIES OR CONDITIONS OF ANY KIND, either express or implied.\n",
              "// See the License for the specific language governing permissions and\n",
              "// limitations under the License.\n",
              "\n",
              "/**\n",
              " * @fileoverview Helpers for google.colab Python module.\n",
              " */\n",
              "(function(scope) {\n",
              "function span(text, styleAttributes = {}) {\n",
              "  const element = document.createElement('span');\n",
              "  element.textContent = text;\n",
              "  for (const key of Object.keys(styleAttributes)) {\n",
              "    element.style[key] = styleAttributes[key];\n",
              "  }\n",
              "  return element;\n",
              "}\n",
              "\n",
              "// Max number of bytes which will be uploaded at a time.\n",
              "const MAX_PAYLOAD_SIZE = 100 * 1024;\n",
              "\n",
              "function _uploadFiles(inputId, outputId) {\n",
              "  const steps = uploadFilesStep(inputId, outputId);\n",
              "  const outputElement = document.getElementById(outputId);\n",
              "  // Cache steps on the outputElement to make it available for the next call\n",
              "  // to uploadFilesContinue from Python.\n",
              "  outputElement.steps = steps;\n",
              "\n",
              "  return _uploadFilesContinue(outputId);\n",
              "}\n",
              "\n",
              "// This is roughly an async generator (not supported in the browser yet),\n",
              "// where there are multiple asynchronous steps and the Python side is going\n",
              "// to poll for completion of each step.\n",
              "// This uses a Promise to block the python side on completion of each step,\n",
              "// then passes the result of the previous step as the input to the next step.\n",
              "function _uploadFilesContinue(outputId) {\n",
              "  const outputElement = document.getElementById(outputId);\n",
              "  const steps = outputElement.steps;\n",
              "\n",
              "  const next = steps.next(outputElement.lastPromiseValue);\n",
              "  return Promise.resolve(next.value.promise).then((value) => {\n",
              "    // Cache the last promise value to make it available to the next\n",
              "    // step of the generator.\n",
              "    outputElement.lastPromiseValue = value;\n",
              "    return next.value.response;\n",
              "  });\n",
              "}\n",
              "\n",
              "/**\n",
              " * Generator function which is called between each async step of the upload\n",
              " * process.\n",
              " * @param {string} inputId Element ID of the input file picker element.\n",
              " * @param {string} outputId Element ID of the output display.\n",
              " * @return {!Iterable<!Object>} Iterable of next steps.\n",
              " */\n",
              "function* uploadFilesStep(inputId, outputId) {\n",
              "  const inputElement = document.getElementById(inputId);\n",
              "  inputElement.disabled = false;\n",
              "\n",
              "  const outputElement = document.getElementById(outputId);\n",
              "  outputElement.innerHTML = '';\n",
              "\n",
              "  const pickedPromise = new Promise((resolve) => {\n",
              "    inputElement.addEventListener('change', (e) => {\n",
              "      resolve(e.target.files);\n",
              "    });\n",
              "  });\n",
              "\n",
              "  const cancel = document.createElement('button');\n",
              "  inputElement.parentElement.appendChild(cancel);\n",
              "  cancel.textContent = 'Cancel upload';\n",
              "  const cancelPromise = new Promise((resolve) => {\n",
              "    cancel.onclick = () => {\n",
              "      resolve(null);\n",
              "    };\n",
              "  });\n",
              "\n",
              "  // Wait for the user to pick the files.\n",
              "  const files = yield {\n",
              "    promise: Promise.race([pickedPromise, cancelPromise]),\n",
              "    response: {\n",
              "      action: 'starting',\n",
              "    }\n",
              "  };\n",
              "\n",
              "  cancel.remove();\n",
              "\n",
              "  // Disable the input element since further picks are not allowed.\n",
              "  inputElement.disabled = true;\n",
              "\n",
              "  if (!files) {\n",
              "    return {\n",
              "      response: {\n",
              "        action: 'complete',\n",
              "      }\n",
              "    };\n",
              "  }\n",
              "\n",
              "  for (const file of files) {\n",
              "    const li = document.createElement('li');\n",
              "    li.append(span(file.name, {fontWeight: 'bold'}));\n",
              "    li.append(span(\n",
              "        `(${file.type || 'n/a'}) - ${file.size} bytes, ` +\n",
              "        `last modified: ${\n",
              "            file.lastModifiedDate ? file.lastModifiedDate.toLocaleDateString() :\n",
              "                                    'n/a'} - `));\n",
              "    const percent = span('0% done');\n",
              "    li.appendChild(percent);\n",
              "\n",
              "    outputElement.appendChild(li);\n",
              "\n",
              "    const fileDataPromise = new Promise((resolve) => {\n",
              "      const reader = new FileReader();\n",
              "      reader.onload = (e) => {\n",
              "        resolve(e.target.result);\n",
              "      };\n",
              "      reader.readAsArrayBuffer(file);\n",
              "    });\n",
              "    // Wait for the data to be ready.\n",
              "    let fileData = yield {\n",
              "      promise: fileDataPromise,\n",
              "      response: {\n",
              "        action: 'continue',\n",
              "      }\n",
              "    };\n",
              "\n",
              "    // Use a chunked sending to avoid message size limits. See b/62115660.\n",
              "    let position = 0;\n",
              "    do {\n",
              "      const length = Math.min(fileData.byteLength - position, MAX_PAYLOAD_SIZE);\n",
              "      const chunk = new Uint8Array(fileData, position, length);\n",
              "      position += length;\n",
              "\n",
              "      const base64 = btoa(String.fromCharCode.apply(null, chunk));\n",
              "      yield {\n",
              "        response: {\n",
              "          action: 'append',\n",
              "          file: file.name,\n",
              "          data: base64,\n",
              "        },\n",
              "      };\n",
              "\n",
              "      let percentDone = fileData.byteLength === 0 ?\n",
              "          100 :\n",
              "          Math.round((position / fileData.byteLength) * 100);\n",
              "      percent.textContent = `${percentDone}% done`;\n",
              "\n",
              "    } while (position < fileData.byteLength);\n",
              "  }\n",
              "\n",
              "  // All done.\n",
              "  yield {\n",
              "    response: {\n",
              "      action: 'complete',\n",
              "    }\n",
              "  };\n",
              "}\n",
              "\n",
              "scope.google = scope.google || {};\n",
              "scope.google.colab = scope.google.colab || {};\n",
              "scope.google.colab._files = {\n",
              "  _uploadFiles,\n",
              "  _uploadFilesContinue,\n",
              "};\n",
              "})(self);\n",
              "</script> "
            ]
          },
          "metadata": {}
        },
        {
          "output_type": "stream",
          "name": "stdout",
          "text": [
            "Saving kidney_disease.csv to kidney_disease.csv\n"
          ]
        }
      ]
    },
    {
      "cell_type": "code",
      "source": [
        "data = pd.read_csv('kidney_disease.csv')"
      ],
      "metadata": {
        "id": "2FF44dJcjWzM"
      },
      "execution_count": 3,
      "outputs": []
    },
    {
      "cell_type": "code",
      "source": [
        "data.head()"
      ],
      "metadata": {
        "colab": {
          "base_uri": "https://localhost:8080/",
          "height": 235
        },
        "id": "hj6Z-tbijmGx",
        "outputId": "658fc28d-e9f7-47b7-8a9e-637f8fc09773"
      },
      "execution_count": 4,
      "outputs": [
        {
          "output_type": "execute_result",
          "data": {
            "text/plain": [
              "   id   age    bp     sg   al   su     rbc        pc         pcc          ba  \\\n",
              "0   0  48.0  80.0  1.020  1.0  0.0     NaN    normal  notpresent  notpresent   \n",
              "1   1   7.0  50.0  1.020  4.0  0.0     NaN    normal  notpresent  notpresent   \n",
              "2   2  62.0  80.0  1.010  2.0  3.0  normal    normal  notpresent  notpresent   \n",
              "3   3  48.0  70.0  1.005  4.0  0.0  normal  abnormal     present  notpresent   \n",
              "4   4  51.0  80.0  1.010  2.0  0.0  normal    normal  notpresent  notpresent   \n",
              "\n",
              "   ...  pcv    wc   rc  htn   dm  cad appet   pe  ane classification  \n",
              "0  ...   44  7800  5.2  yes  yes   no  good   no   no            ckd  \n",
              "1  ...   38  6000  NaN   no   no   no  good   no   no            ckd  \n",
              "2  ...   31  7500  NaN   no  yes   no  poor   no  yes            ckd  \n",
              "3  ...   32  6700  3.9  yes   no   no  poor  yes  yes            ckd  \n",
              "4  ...   35  7300  4.6   no   no   no  good   no   no            ckd  \n",
              "\n",
              "[5 rows x 26 columns]"
            ],
            "text/html": [
              "\n",
              "  <div id=\"df-9e4f2fb0-3892-4d79-b056-10ba42abc19e\">\n",
              "    <div class=\"colab-df-container\">\n",
              "      <div>\n",
              "<style scoped>\n",
              "    .dataframe tbody tr th:only-of-type {\n",
              "        vertical-align: middle;\n",
              "    }\n",
              "\n",
              "    .dataframe tbody tr th {\n",
              "        vertical-align: top;\n",
              "    }\n",
              "\n",
              "    .dataframe thead th {\n",
              "        text-align: right;\n",
              "    }\n",
              "</style>\n",
              "<table border=\"1\" class=\"dataframe\">\n",
              "  <thead>\n",
              "    <tr style=\"text-align: right;\">\n",
              "      <th></th>\n",
              "      <th>id</th>\n",
              "      <th>age</th>\n",
              "      <th>bp</th>\n",
              "      <th>sg</th>\n",
              "      <th>al</th>\n",
              "      <th>su</th>\n",
              "      <th>rbc</th>\n",
              "      <th>pc</th>\n",
              "      <th>pcc</th>\n",
              "      <th>ba</th>\n",
              "      <th>...</th>\n",
              "      <th>pcv</th>\n",
              "      <th>wc</th>\n",
              "      <th>rc</th>\n",
              "      <th>htn</th>\n",
              "      <th>dm</th>\n",
              "      <th>cad</th>\n",
              "      <th>appet</th>\n",
              "      <th>pe</th>\n",
              "      <th>ane</th>\n",
              "      <th>classification</th>\n",
              "    </tr>\n",
              "  </thead>\n",
              "  <tbody>\n",
              "    <tr>\n",
              "      <th>0</th>\n",
              "      <td>0</td>\n",
              "      <td>48.0</td>\n",
              "      <td>80.0</td>\n",
              "      <td>1.020</td>\n",
              "      <td>1.0</td>\n",
              "      <td>0.0</td>\n",
              "      <td>NaN</td>\n",
              "      <td>normal</td>\n",
              "      <td>notpresent</td>\n",
              "      <td>notpresent</td>\n",
              "      <td>...</td>\n",
              "      <td>44</td>\n",
              "      <td>7800</td>\n",
              "      <td>5.2</td>\n",
              "      <td>yes</td>\n",
              "      <td>yes</td>\n",
              "      <td>no</td>\n",
              "      <td>good</td>\n",
              "      <td>no</td>\n",
              "      <td>no</td>\n",
              "      <td>ckd</td>\n",
              "    </tr>\n",
              "    <tr>\n",
              "      <th>1</th>\n",
              "      <td>1</td>\n",
              "      <td>7.0</td>\n",
              "      <td>50.0</td>\n",
              "      <td>1.020</td>\n",
              "      <td>4.0</td>\n",
              "      <td>0.0</td>\n",
              "      <td>NaN</td>\n",
              "      <td>normal</td>\n",
              "      <td>notpresent</td>\n",
              "      <td>notpresent</td>\n",
              "      <td>...</td>\n",
              "      <td>38</td>\n",
              "      <td>6000</td>\n",
              "      <td>NaN</td>\n",
              "      <td>no</td>\n",
              "      <td>no</td>\n",
              "      <td>no</td>\n",
              "      <td>good</td>\n",
              "      <td>no</td>\n",
              "      <td>no</td>\n",
              "      <td>ckd</td>\n",
              "    </tr>\n",
              "    <tr>\n",
              "      <th>2</th>\n",
              "      <td>2</td>\n",
              "      <td>62.0</td>\n",
              "      <td>80.0</td>\n",
              "      <td>1.010</td>\n",
              "      <td>2.0</td>\n",
              "      <td>3.0</td>\n",
              "      <td>normal</td>\n",
              "      <td>normal</td>\n",
              "      <td>notpresent</td>\n",
              "      <td>notpresent</td>\n",
              "      <td>...</td>\n",
              "      <td>31</td>\n",
              "      <td>7500</td>\n",
              "      <td>NaN</td>\n",
              "      <td>no</td>\n",
              "      <td>yes</td>\n",
              "      <td>no</td>\n",
              "      <td>poor</td>\n",
              "      <td>no</td>\n",
              "      <td>yes</td>\n",
              "      <td>ckd</td>\n",
              "    </tr>\n",
              "    <tr>\n",
              "      <th>3</th>\n",
              "      <td>3</td>\n",
              "      <td>48.0</td>\n",
              "      <td>70.0</td>\n",
              "      <td>1.005</td>\n",
              "      <td>4.0</td>\n",
              "      <td>0.0</td>\n",
              "      <td>normal</td>\n",
              "      <td>abnormal</td>\n",
              "      <td>present</td>\n",
              "      <td>notpresent</td>\n",
              "      <td>...</td>\n",
              "      <td>32</td>\n",
              "      <td>6700</td>\n",
              "      <td>3.9</td>\n",
              "      <td>yes</td>\n",
              "      <td>no</td>\n",
              "      <td>no</td>\n",
              "      <td>poor</td>\n",
              "      <td>yes</td>\n",
              "      <td>yes</td>\n",
              "      <td>ckd</td>\n",
              "    </tr>\n",
              "    <tr>\n",
              "      <th>4</th>\n",
              "      <td>4</td>\n",
              "      <td>51.0</td>\n",
              "      <td>80.0</td>\n",
              "      <td>1.010</td>\n",
              "      <td>2.0</td>\n",
              "      <td>0.0</td>\n",
              "      <td>normal</td>\n",
              "      <td>normal</td>\n",
              "      <td>notpresent</td>\n",
              "      <td>notpresent</td>\n",
              "      <td>...</td>\n",
              "      <td>35</td>\n",
              "      <td>7300</td>\n",
              "      <td>4.6</td>\n",
              "      <td>no</td>\n",
              "      <td>no</td>\n",
              "      <td>no</td>\n",
              "      <td>good</td>\n",
              "      <td>no</td>\n",
              "      <td>no</td>\n",
              "      <td>ckd</td>\n",
              "    </tr>\n",
              "  </tbody>\n",
              "</table>\n",
              "<p>5 rows × 26 columns</p>\n",
              "</div>\n",
              "      <button class=\"colab-df-convert\" onclick=\"convertToInteractive('df-9e4f2fb0-3892-4d79-b056-10ba42abc19e')\"\n",
              "              title=\"Convert this dataframe to an interactive table.\"\n",
              "              style=\"display:none;\">\n",
              "        \n",
              "  <svg xmlns=\"http://www.w3.org/2000/svg\" height=\"24px\"viewBox=\"0 0 24 24\"\n",
              "       width=\"24px\">\n",
              "    <path d=\"M0 0h24v24H0V0z\" fill=\"none\"/>\n",
              "    <path d=\"M18.56 5.44l.94 2.06.94-2.06 2.06-.94-2.06-.94-.94-2.06-.94 2.06-2.06.94zm-11 1L8.5 8.5l.94-2.06 2.06-.94-2.06-.94L8.5 2.5l-.94 2.06-2.06.94zm10 10l.94 2.06.94-2.06 2.06-.94-2.06-.94-.94-2.06-.94 2.06-2.06.94z\"/><path d=\"M17.41 7.96l-1.37-1.37c-.4-.4-.92-.59-1.43-.59-.52 0-1.04.2-1.43.59L10.3 9.45l-7.72 7.72c-.78.78-.78 2.05 0 2.83L4 21.41c.39.39.9.59 1.41.59.51 0 1.02-.2 1.41-.59l7.78-7.78 2.81-2.81c.8-.78.8-2.07 0-2.86zM5.41 20L4 18.59l7.72-7.72 1.47 1.35L5.41 20z\"/>\n",
              "  </svg>\n",
              "      </button>\n",
              "      \n",
              "  <style>\n",
              "    .colab-df-container {\n",
              "      display:flex;\n",
              "      flex-wrap:wrap;\n",
              "      gap: 12px;\n",
              "    }\n",
              "\n",
              "    .colab-df-convert {\n",
              "      background-color: #E8F0FE;\n",
              "      border: none;\n",
              "      border-radius: 50%;\n",
              "      cursor: pointer;\n",
              "      display: none;\n",
              "      fill: #1967D2;\n",
              "      height: 32px;\n",
              "      padding: 0 0 0 0;\n",
              "      width: 32px;\n",
              "    }\n",
              "\n",
              "    .colab-df-convert:hover {\n",
              "      background-color: #E2EBFA;\n",
              "      box-shadow: 0px 1px 2px rgba(60, 64, 67, 0.3), 0px 1px 3px 1px rgba(60, 64, 67, 0.15);\n",
              "      fill: #174EA6;\n",
              "    }\n",
              "\n",
              "    [theme=dark] .colab-df-convert {\n",
              "      background-color: #3B4455;\n",
              "      fill: #D2E3FC;\n",
              "    }\n",
              "\n",
              "    [theme=dark] .colab-df-convert:hover {\n",
              "      background-color: #434B5C;\n",
              "      box-shadow: 0px 1px 3px 1px rgba(0, 0, 0, 0.15);\n",
              "      filter: drop-shadow(0px 1px 2px rgba(0, 0, 0, 0.3));\n",
              "      fill: #FFFFFF;\n",
              "    }\n",
              "  </style>\n",
              "\n",
              "      <script>\n",
              "        const buttonEl =\n",
              "          document.querySelector('#df-9e4f2fb0-3892-4d79-b056-10ba42abc19e button.colab-df-convert');\n",
              "        buttonEl.style.display =\n",
              "          google.colab.kernel.accessAllowed ? 'block' : 'none';\n",
              "\n",
              "        async function convertToInteractive(key) {\n",
              "          const element = document.querySelector('#df-9e4f2fb0-3892-4d79-b056-10ba42abc19e');\n",
              "          const dataTable =\n",
              "            await google.colab.kernel.invokeFunction('convertToInteractive',\n",
              "                                                     [key], {});\n",
              "          if (!dataTable) return;\n",
              "\n",
              "          const docLinkHtml = 'Like what you see? Visit the ' +\n",
              "            '<a target=\"_blank\" href=https://colab.research.google.com/notebooks/data_table.ipynb>data table notebook</a>'\n",
              "            + ' to learn more about interactive tables.';\n",
              "          element.innerHTML = '';\n",
              "          dataTable['output_type'] = 'display_data';\n",
              "          await google.colab.output.renderOutput(dataTable, element);\n",
              "          const docLink = document.createElement('div');\n",
              "          docLink.innerHTML = docLinkHtml;\n",
              "          element.appendChild(docLink);\n",
              "        }\n",
              "      </script>\n",
              "    </div>\n",
              "  </div>\n",
              "  "
            ]
          },
          "metadata": {},
          "execution_count": 4
        }
      ]
    },
    {
      "cell_type": "markdown",
      "source": [
        "## Renaming the Columns"
      ],
      "metadata": {
        "id": "tq28XSx4uGNX"
      }
    },
    {
      "cell_type": "code",
      "source": [
        "data.rename(columns={'bp': 'blood_pressure', 'sg': 'specific gravity','al':'albumin','su':'sugar','rbc':'red blood cells','pc':'pus cell','pcc':'pus cell clumps','ba':'bacteria','bgr':'blood glucose random','bu':'blood urea','sc':'serum creatinine','sod':'sodium','pot':'potassium','hemo':'hemoglobin','pcv':'packed cell volume','wc':'white blood cell count','rc':'red blood cell count','htn':'hypertension','dm':'diabetes mellitus','cad':'coronary artery disease','appet':'appetite','pe':'pedal edema','ane':'anemia','classification':'class'},inplace=True)"
      ],
      "metadata": {
        "id": "6dvCEqWzjnZk"
      },
      "execution_count": 5,
      "outputs": []
    },
    {
      "cell_type": "code",
      "source": [
        "data.head()"
      ],
      "metadata": {
        "colab": {
          "base_uri": "https://localhost:8080/",
          "height": 351
        },
        "id": "HaY38DVHuLi8",
        "outputId": "8d58fa21-4f67-4cfc-bdac-f71c2f6cac0a"
      },
      "execution_count": 6,
      "outputs": [
        {
          "output_type": "execute_result",
          "data": {
            "text/plain": [
              "   id   age  blood_pressure  specific gravity  albumin  sugar red blood cells  \\\n",
              "0   0  48.0            80.0             1.020      1.0    0.0             NaN   \n",
              "1   1   7.0            50.0             1.020      4.0    0.0             NaN   \n",
              "2   2  62.0            80.0             1.010      2.0    3.0          normal   \n",
              "3   3  48.0            70.0             1.005      4.0    0.0          normal   \n",
              "4   4  51.0            80.0             1.010      2.0    0.0          normal   \n",
              "\n",
              "   pus cell pus cell clumps    bacteria  ...  packed cell volume  \\\n",
              "0    normal      notpresent  notpresent  ...                  44   \n",
              "1    normal      notpresent  notpresent  ...                  38   \n",
              "2    normal      notpresent  notpresent  ...                  31   \n",
              "3  abnormal         present  notpresent  ...                  32   \n",
              "4    normal      notpresent  notpresent  ...                  35   \n",
              "\n",
              "   white blood cell count  red blood cell count  hypertension  \\\n",
              "0                    7800                   5.2           yes   \n",
              "1                    6000                   NaN            no   \n",
              "2                    7500                   NaN            no   \n",
              "3                    6700                   3.9           yes   \n",
              "4                    7300                   4.6            no   \n",
              "\n",
              "   diabetes mellitus  coronary artery disease appetite pedal edema anemia  \\\n",
              "0                yes                       no     good          no     no   \n",
              "1                 no                       no     good          no     no   \n",
              "2                yes                       no     poor          no    yes   \n",
              "3                 no                       no     poor         yes    yes   \n",
              "4                 no                       no     good          no     no   \n",
              "\n",
              "  class  \n",
              "0   ckd  \n",
              "1   ckd  \n",
              "2   ckd  \n",
              "3   ckd  \n",
              "4   ckd  \n",
              "\n",
              "[5 rows x 26 columns]"
            ],
            "text/html": [
              "\n",
              "  <div id=\"df-b98a75aa-9286-4070-9840-785031df31e6\">\n",
              "    <div class=\"colab-df-container\">\n",
              "      <div>\n",
              "<style scoped>\n",
              "    .dataframe tbody tr th:only-of-type {\n",
              "        vertical-align: middle;\n",
              "    }\n",
              "\n",
              "    .dataframe tbody tr th {\n",
              "        vertical-align: top;\n",
              "    }\n",
              "\n",
              "    .dataframe thead th {\n",
              "        text-align: right;\n",
              "    }\n",
              "</style>\n",
              "<table border=\"1\" class=\"dataframe\">\n",
              "  <thead>\n",
              "    <tr style=\"text-align: right;\">\n",
              "      <th></th>\n",
              "      <th>id</th>\n",
              "      <th>age</th>\n",
              "      <th>blood_pressure</th>\n",
              "      <th>specific gravity</th>\n",
              "      <th>albumin</th>\n",
              "      <th>sugar</th>\n",
              "      <th>red blood cells</th>\n",
              "      <th>pus cell</th>\n",
              "      <th>pus cell clumps</th>\n",
              "      <th>bacteria</th>\n",
              "      <th>...</th>\n",
              "      <th>packed cell volume</th>\n",
              "      <th>white blood cell count</th>\n",
              "      <th>red blood cell count</th>\n",
              "      <th>hypertension</th>\n",
              "      <th>diabetes mellitus</th>\n",
              "      <th>coronary artery disease</th>\n",
              "      <th>appetite</th>\n",
              "      <th>pedal edema</th>\n",
              "      <th>anemia</th>\n",
              "      <th>class</th>\n",
              "    </tr>\n",
              "  </thead>\n",
              "  <tbody>\n",
              "    <tr>\n",
              "      <th>0</th>\n",
              "      <td>0</td>\n",
              "      <td>48.0</td>\n",
              "      <td>80.0</td>\n",
              "      <td>1.020</td>\n",
              "      <td>1.0</td>\n",
              "      <td>0.0</td>\n",
              "      <td>NaN</td>\n",
              "      <td>normal</td>\n",
              "      <td>notpresent</td>\n",
              "      <td>notpresent</td>\n",
              "      <td>...</td>\n",
              "      <td>44</td>\n",
              "      <td>7800</td>\n",
              "      <td>5.2</td>\n",
              "      <td>yes</td>\n",
              "      <td>yes</td>\n",
              "      <td>no</td>\n",
              "      <td>good</td>\n",
              "      <td>no</td>\n",
              "      <td>no</td>\n",
              "      <td>ckd</td>\n",
              "    </tr>\n",
              "    <tr>\n",
              "      <th>1</th>\n",
              "      <td>1</td>\n",
              "      <td>7.0</td>\n",
              "      <td>50.0</td>\n",
              "      <td>1.020</td>\n",
              "      <td>4.0</td>\n",
              "      <td>0.0</td>\n",
              "      <td>NaN</td>\n",
              "      <td>normal</td>\n",
              "      <td>notpresent</td>\n",
              "      <td>notpresent</td>\n",
              "      <td>...</td>\n",
              "      <td>38</td>\n",
              "      <td>6000</td>\n",
              "      <td>NaN</td>\n",
              "      <td>no</td>\n",
              "      <td>no</td>\n",
              "      <td>no</td>\n",
              "      <td>good</td>\n",
              "      <td>no</td>\n",
              "      <td>no</td>\n",
              "      <td>ckd</td>\n",
              "    </tr>\n",
              "    <tr>\n",
              "      <th>2</th>\n",
              "      <td>2</td>\n",
              "      <td>62.0</td>\n",
              "      <td>80.0</td>\n",
              "      <td>1.010</td>\n",
              "      <td>2.0</td>\n",
              "      <td>3.0</td>\n",
              "      <td>normal</td>\n",
              "      <td>normal</td>\n",
              "      <td>notpresent</td>\n",
              "      <td>notpresent</td>\n",
              "      <td>...</td>\n",
              "      <td>31</td>\n",
              "      <td>7500</td>\n",
              "      <td>NaN</td>\n",
              "      <td>no</td>\n",
              "      <td>yes</td>\n",
              "      <td>no</td>\n",
              "      <td>poor</td>\n",
              "      <td>no</td>\n",
              "      <td>yes</td>\n",
              "      <td>ckd</td>\n",
              "    </tr>\n",
              "    <tr>\n",
              "      <th>3</th>\n",
              "      <td>3</td>\n",
              "      <td>48.0</td>\n",
              "      <td>70.0</td>\n",
              "      <td>1.005</td>\n",
              "      <td>4.0</td>\n",
              "      <td>0.0</td>\n",
              "      <td>normal</td>\n",
              "      <td>abnormal</td>\n",
              "      <td>present</td>\n",
              "      <td>notpresent</td>\n",
              "      <td>...</td>\n",
              "      <td>32</td>\n",
              "      <td>6700</td>\n",
              "      <td>3.9</td>\n",
              "      <td>yes</td>\n",
              "      <td>no</td>\n",
              "      <td>no</td>\n",
              "      <td>poor</td>\n",
              "      <td>yes</td>\n",
              "      <td>yes</td>\n",
              "      <td>ckd</td>\n",
              "    </tr>\n",
              "    <tr>\n",
              "      <th>4</th>\n",
              "      <td>4</td>\n",
              "      <td>51.0</td>\n",
              "      <td>80.0</td>\n",
              "      <td>1.010</td>\n",
              "      <td>2.0</td>\n",
              "      <td>0.0</td>\n",
              "      <td>normal</td>\n",
              "      <td>normal</td>\n",
              "      <td>notpresent</td>\n",
              "      <td>notpresent</td>\n",
              "      <td>...</td>\n",
              "      <td>35</td>\n",
              "      <td>7300</td>\n",
              "      <td>4.6</td>\n",
              "      <td>no</td>\n",
              "      <td>no</td>\n",
              "      <td>no</td>\n",
              "      <td>good</td>\n",
              "      <td>no</td>\n",
              "      <td>no</td>\n",
              "      <td>ckd</td>\n",
              "    </tr>\n",
              "  </tbody>\n",
              "</table>\n",
              "<p>5 rows × 26 columns</p>\n",
              "</div>\n",
              "      <button class=\"colab-df-convert\" onclick=\"convertToInteractive('df-b98a75aa-9286-4070-9840-785031df31e6')\"\n",
              "              title=\"Convert this dataframe to an interactive table.\"\n",
              "              style=\"display:none;\">\n",
              "        \n",
              "  <svg xmlns=\"http://www.w3.org/2000/svg\" height=\"24px\"viewBox=\"0 0 24 24\"\n",
              "       width=\"24px\">\n",
              "    <path d=\"M0 0h24v24H0V0z\" fill=\"none\"/>\n",
              "    <path d=\"M18.56 5.44l.94 2.06.94-2.06 2.06-.94-2.06-.94-.94-2.06-.94 2.06-2.06.94zm-11 1L8.5 8.5l.94-2.06 2.06-.94-2.06-.94L8.5 2.5l-.94 2.06-2.06.94zm10 10l.94 2.06.94-2.06 2.06-.94-2.06-.94-.94-2.06-.94 2.06-2.06.94z\"/><path d=\"M17.41 7.96l-1.37-1.37c-.4-.4-.92-.59-1.43-.59-.52 0-1.04.2-1.43.59L10.3 9.45l-7.72 7.72c-.78.78-.78 2.05 0 2.83L4 21.41c.39.39.9.59 1.41.59.51 0 1.02-.2 1.41-.59l7.78-7.78 2.81-2.81c.8-.78.8-2.07 0-2.86zM5.41 20L4 18.59l7.72-7.72 1.47 1.35L5.41 20z\"/>\n",
              "  </svg>\n",
              "      </button>\n",
              "      \n",
              "  <style>\n",
              "    .colab-df-container {\n",
              "      display:flex;\n",
              "      flex-wrap:wrap;\n",
              "      gap: 12px;\n",
              "    }\n",
              "\n",
              "    .colab-df-convert {\n",
              "      background-color: #E8F0FE;\n",
              "      border: none;\n",
              "      border-radius: 50%;\n",
              "      cursor: pointer;\n",
              "      display: none;\n",
              "      fill: #1967D2;\n",
              "      height: 32px;\n",
              "      padding: 0 0 0 0;\n",
              "      width: 32px;\n",
              "    }\n",
              "\n",
              "    .colab-df-convert:hover {\n",
              "      background-color: #E2EBFA;\n",
              "      box-shadow: 0px 1px 2px rgba(60, 64, 67, 0.3), 0px 1px 3px 1px rgba(60, 64, 67, 0.15);\n",
              "      fill: #174EA6;\n",
              "    }\n",
              "\n",
              "    [theme=dark] .colab-df-convert {\n",
              "      background-color: #3B4455;\n",
              "      fill: #D2E3FC;\n",
              "    }\n",
              "\n",
              "    [theme=dark] .colab-df-convert:hover {\n",
              "      background-color: #434B5C;\n",
              "      box-shadow: 0px 1px 3px 1px rgba(0, 0, 0, 0.15);\n",
              "      filter: drop-shadow(0px 1px 2px rgba(0, 0, 0, 0.3));\n",
              "      fill: #FFFFFF;\n",
              "    }\n",
              "  </style>\n",
              "\n",
              "      <script>\n",
              "        const buttonEl =\n",
              "          document.querySelector('#df-b98a75aa-9286-4070-9840-785031df31e6 button.colab-df-convert');\n",
              "        buttonEl.style.display =\n",
              "          google.colab.kernel.accessAllowed ? 'block' : 'none';\n",
              "\n",
              "        async function convertToInteractive(key) {\n",
              "          const element = document.querySelector('#df-b98a75aa-9286-4070-9840-785031df31e6');\n",
              "          const dataTable =\n",
              "            await google.colab.kernel.invokeFunction('convertToInteractive',\n",
              "                                                     [key], {});\n",
              "          if (!dataTable) return;\n",
              "\n",
              "          const docLinkHtml = 'Like what you see? Visit the ' +\n",
              "            '<a target=\"_blank\" href=https://colab.research.google.com/notebooks/data_table.ipynb>data table notebook</a>'\n",
              "            + ' to learn more about interactive tables.';\n",
              "          element.innerHTML = '';\n",
              "          dataTable['output_type'] = 'display_data';\n",
              "          await google.colab.output.renderOutput(dataTable, element);\n",
              "          const docLink = document.createElement('div');\n",
              "          docLink.innerHTML = docLinkHtml;\n",
              "          element.appendChild(docLink);\n",
              "        }\n",
              "      </script>\n",
              "    </div>\n",
              "  </div>\n",
              "  "
            ]
          },
          "metadata": {},
          "execution_count": 6
        }
      ]
    },
    {
      "cell_type": "markdown",
      "source": [
        "## Data Preprocessing"
      ],
      "metadata": {
        "id": "hpS49HZAuT2T"
      }
    },
    {
      "cell_type": "code",
      "source": [
        "data.info()"
      ],
      "metadata": {
        "colab": {
          "base_uri": "https://localhost:8080/"
        },
        "id": "zLMhhFSxuM5k",
        "outputId": "a555f7d4-0cb6-47d2-fac0-bc24c76512b5"
      },
      "execution_count": 7,
      "outputs": [
        {
          "output_type": "stream",
          "name": "stdout",
          "text": [
            "<class 'pandas.core.frame.DataFrame'>\n",
            "RangeIndex: 400 entries, 0 to 399\n",
            "Data columns (total 26 columns):\n",
            " #   Column                   Non-Null Count  Dtype  \n",
            "---  ------                   --------------  -----  \n",
            " 0   id                       400 non-null    int64  \n",
            " 1   age                      391 non-null    float64\n",
            " 2   blood_pressure           388 non-null    float64\n",
            " 3   specific gravity         353 non-null    float64\n",
            " 4   albumin                  354 non-null    float64\n",
            " 5   sugar                    351 non-null    float64\n",
            " 6   red blood cells          248 non-null    object \n",
            " 7   pus cell                 335 non-null    object \n",
            " 8   pus cell clumps          396 non-null    object \n",
            " 9   bacteria                 396 non-null    object \n",
            " 10  blood glucose random     356 non-null    float64\n",
            " 11  blood urea               381 non-null    float64\n",
            " 12  serum creatinine         383 non-null    float64\n",
            " 13  sodium                   313 non-null    float64\n",
            " 14  potassium                312 non-null    float64\n",
            " 15  hemoglobin               348 non-null    float64\n",
            " 16  packed cell volume       330 non-null    object \n",
            " 17  white blood cell count   295 non-null    object \n",
            " 18  red blood cell count     270 non-null    object \n",
            " 19  hypertension             398 non-null    object \n",
            " 20  diabetes mellitus        398 non-null    object \n",
            " 21  coronary artery disease  398 non-null    object \n",
            " 22  appetite                 399 non-null    object \n",
            " 23  pedal edema              399 non-null    object \n",
            " 24  anemia                   399 non-null    object \n",
            " 25  class                    400 non-null    object \n",
            "dtypes: float64(11), int64(1), object(14)\n",
            "memory usage: 81.4+ KB\n"
          ]
        }
      ]
    },
    {
      "cell_type": "code",
      "source": [
        "#As we can see packed_cell_volume, white_blood_cell_count and red_blood_cell_count are object type. We need to change them to numerical dtype.\n",
        "\n",
        "data['packed cell volume'] = pd.to_numeric(data['packed cell volume'], errors='coerce')\n",
        "data['white blood cell count'] = pd.to_numeric(data['white blood cell count'], errors='coerce')\n",
        "data['red blood cell count'] = pd.to_numeric(data['red blood cell count'], errors='coerce')"
      ],
      "metadata": {
        "id": "mrx-ppD4vSmj"
      },
      "execution_count": 8,
      "outputs": []
    },
    {
      "cell_type": "code",
      "source": [
        "data.info()"
      ],
      "metadata": {
        "colab": {
          "base_uri": "https://localhost:8080/"
        },
        "id": "oQIWM6OxvwlG",
        "outputId": "acd3fdc4-52a9-478b-8cae-01036ac13728"
      },
      "execution_count": 9,
      "outputs": [
        {
          "output_type": "stream",
          "name": "stdout",
          "text": [
            "<class 'pandas.core.frame.DataFrame'>\n",
            "RangeIndex: 400 entries, 0 to 399\n",
            "Data columns (total 26 columns):\n",
            " #   Column                   Non-Null Count  Dtype  \n",
            "---  ------                   --------------  -----  \n",
            " 0   id                       400 non-null    int64  \n",
            " 1   age                      391 non-null    float64\n",
            " 2   blood_pressure           388 non-null    float64\n",
            " 3   specific gravity         353 non-null    float64\n",
            " 4   albumin                  354 non-null    float64\n",
            " 5   sugar                    351 non-null    float64\n",
            " 6   red blood cells          248 non-null    object \n",
            " 7   pus cell                 335 non-null    object \n",
            " 8   pus cell clumps          396 non-null    object \n",
            " 9   bacteria                 396 non-null    object \n",
            " 10  blood glucose random     356 non-null    float64\n",
            " 11  blood urea               381 non-null    float64\n",
            " 12  serum creatinine         383 non-null    float64\n",
            " 13  sodium                   313 non-null    float64\n",
            " 14  potassium                312 non-null    float64\n",
            " 15  hemoglobin               348 non-null    float64\n",
            " 16  packed cell volume       329 non-null    float64\n",
            " 17  white blood cell count   294 non-null    float64\n",
            " 18  red blood cell count     269 non-null    float64\n",
            " 19  hypertension             398 non-null    object \n",
            " 20  diabetes mellitus        398 non-null    object \n",
            " 21  coronary artery disease  398 non-null    object \n",
            " 22  appetite                 399 non-null    object \n",
            " 23  pedal edema              399 non-null    object \n",
            " 24  anemia                   399 non-null    object \n",
            " 25  class                    400 non-null    object \n",
            "dtypes: float64(14), int64(1), object(11)\n",
            "memory usage: 81.4+ KB\n"
          ]
        }
      ]
    },
    {
      "cell_type": "code",
      "source": [
        "#There is some ambiguity as to which columns should be removed.\n",
        "\n",
        "data['diabetes mellitus'].replace(to_replace = {'\\tno':'no','\\tyes':'yes',' yes':'yes'},inplace=True)\n",
        "\n",
        "data['coronary artery disease'] = data['coronary artery disease'].replace(to_replace = '\\tno', value='no')\n",
        "\n",
        "data['class'] = data['class'].replace(to_replace = {'ckd\\t': 'ckd', 'notckd': 'not ckd'})\n",
        "\n"
      ],
      "metadata": {
        "id": "SzIO-klcxJTs"
      },
      "execution_count": 10,
      "outputs": []
    },
    {
      "cell_type": "code",
      "source": [
        "#Neccesary imports\n",
        "\n",
        "import numpy as np\n",
        "import matplotlib.pyplot as plt\n",
        "import seaborn as sns\n",
        "import plotly.express as px\n",
        "\n",
        "import warnings\n",
        "warnings.filterwarnings('ignore')\n",
        "\n",
        "plt.style.use('fivethirtyeight')\n",
        "%matplotlib inline\n",
        "pd.set_option('display.max_columns', 26)"
      ],
      "metadata": {
        "id": "GGymdXONxYxB"
      },
      "execution_count": 12,
      "outputs": []
    },
    {
      "cell_type": "code",
      "source": [
        "# checking for null values\n",
        "\n",
        "data.isna().sum().sort_values(ascending = False)"
      ],
      "metadata": {
        "colab": {
          "base_uri": "https://localhost:8080/"
        },
        "id": "E21MKZwsypd0",
        "outputId": "3dafd52e-7247-4566-a28c-d1966accf243"
      },
      "execution_count": 13,
      "outputs": [
        {
          "output_type": "execute_result",
          "data": {
            "text/plain": [
              "red blood cells            152\n",
              "red blood cell count       131\n",
              "white blood cell count     106\n",
              "potassium                   88\n",
              "sodium                      87\n",
              "packed cell volume          71\n",
              "pus cell                    65\n",
              "hemoglobin                  52\n",
              "sugar                       49\n",
              "specific gravity            47\n",
              "albumin                     46\n",
              "blood glucose random        44\n",
              "blood urea                  19\n",
              "serum creatinine            17\n",
              "blood_pressure              12\n",
              "age                          9\n",
              "bacteria                     4\n",
              "pus cell clumps              4\n",
              "hypertension                 2\n",
              "diabetes mellitus            2\n",
              "coronary artery disease      2\n",
              "anemia                       1\n",
              "appetite                     1\n",
              "pedal edema                  1\n",
              "id                           0\n",
              "class                        0\n",
              "dtype: int64"
            ]
          },
          "metadata": {},
          "execution_count": 13
        }
      ]
    },
    {
      "cell_type": "code",
      "source": [],
      "metadata": {
        "id": "6P-V5NSByshg"
      },
      "execution_count": null,
      "outputs": []
    },
    {
      "cell_type": "code",
      "source": [
        "#Let's drop columns not needed\n",
        "\n",
        "data = data.drop(['id','red blood cells', 'pus cell', 'pus cell clumps', 'bacteria',\n",
        "                  'packed cell volume', 'hypertension', 'diabetes mellitus', 'coronary artery disease',\n",
        "                  'appetite', 'pedal edema', 'anemia', 'class'],  axis = 1)\n"
      ],
      "metadata": {
        "id": "njwtHzI1udjm"
      },
      "execution_count": 14,
      "outputs": []
    },
    {
      "cell_type": "code",
      "source": [
        "data.head()"
      ],
      "metadata": {
        "colab": {
          "base_uri": "https://localhost:8080/",
          "height": 267
        },
        "id": "nTfEiy1GzLSu",
        "outputId": "efe7a5c6-be6b-4bf9-d148-f42cec3c53e7"
      },
      "execution_count": 15,
      "outputs": [
        {
          "output_type": "execute_result",
          "data": {
            "text/plain": [
              "    age  blood_pressure  specific gravity  albumin  sugar  \\\n",
              "0  48.0            80.0             1.020      1.0    0.0   \n",
              "1   7.0            50.0             1.020      4.0    0.0   \n",
              "2  62.0            80.0             1.010      2.0    3.0   \n",
              "3  48.0            70.0             1.005      4.0    0.0   \n",
              "4  51.0            80.0             1.010      2.0    0.0   \n",
              "\n",
              "   blood glucose random  blood urea  serum creatinine  sodium  potassium  \\\n",
              "0                 121.0        36.0               1.2     NaN        NaN   \n",
              "1                   NaN        18.0               0.8     NaN        NaN   \n",
              "2                 423.0        53.0               1.8     NaN        NaN   \n",
              "3                 117.0        56.0               3.8   111.0        2.5   \n",
              "4                 106.0        26.0               1.4     NaN        NaN   \n",
              "\n",
              "   hemoglobin  white blood cell count  red blood cell count  \n",
              "0        15.4                  7800.0                   5.2  \n",
              "1        11.3                  6000.0                   NaN  \n",
              "2         9.6                  7500.0                   NaN  \n",
              "3        11.2                  6700.0                   3.9  \n",
              "4        11.6                  7300.0                   4.6  "
            ],
            "text/html": [
              "\n",
              "  <div id=\"df-7d425dcc-2e66-4a83-9b61-3f64f98202b6\">\n",
              "    <div class=\"colab-df-container\">\n",
              "      <div>\n",
              "<style scoped>\n",
              "    .dataframe tbody tr th:only-of-type {\n",
              "        vertical-align: middle;\n",
              "    }\n",
              "\n",
              "    .dataframe tbody tr th {\n",
              "        vertical-align: top;\n",
              "    }\n",
              "\n",
              "    .dataframe thead th {\n",
              "        text-align: right;\n",
              "    }\n",
              "</style>\n",
              "<table border=\"1\" class=\"dataframe\">\n",
              "  <thead>\n",
              "    <tr style=\"text-align: right;\">\n",
              "      <th></th>\n",
              "      <th>age</th>\n",
              "      <th>blood_pressure</th>\n",
              "      <th>specific gravity</th>\n",
              "      <th>albumin</th>\n",
              "      <th>sugar</th>\n",
              "      <th>blood glucose random</th>\n",
              "      <th>blood urea</th>\n",
              "      <th>serum creatinine</th>\n",
              "      <th>sodium</th>\n",
              "      <th>potassium</th>\n",
              "      <th>hemoglobin</th>\n",
              "      <th>white blood cell count</th>\n",
              "      <th>red blood cell count</th>\n",
              "    </tr>\n",
              "  </thead>\n",
              "  <tbody>\n",
              "    <tr>\n",
              "      <th>0</th>\n",
              "      <td>48.0</td>\n",
              "      <td>80.0</td>\n",
              "      <td>1.020</td>\n",
              "      <td>1.0</td>\n",
              "      <td>0.0</td>\n",
              "      <td>121.0</td>\n",
              "      <td>36.0</td>\n",
              "      <td>1.2</td>\n",
              "      <td>NaN</td>\n",
              "      <td>NaN</td>\n",
              "      <td>15.4</td>\n",
              "      <td>7800.0</td>\n",
              "      <td>5.2</td>\n",
              "    </tr>\n",
              "    <tr>\n",
              "      <th>1</th>\n",
              "      <td>7.0</td>\n",
              "      <td>50.0</td>\n",
              "      <td>1.020</td>\n",
              "      <td>4.0</td>\n",
              "      <td>0.0</td>\n",
              "      <td>NaN</td>\n",
              "      <td>18.0</td>\n",
              "      <td>0.8</td>\n",
              "      <td>NaN</td>\n",
              "      <td>NaN</td>\n",
              "      <td>11.3</td>\n",
              "      <td>6000.0</td>\n",
              "      <td>NaN</td>\n",
              "    </tr>\n",
              "    <tr>\n",
              "      <th>2</th>\n",
              "      <td>62.0</td>\n",
              "      <td>80.0</td>\n",
              "      <td>1.010</td>\n",
              "      <td>2.0</td>\n",
              "      <td>3.0</td>\n",
              "      <td>423.0</td>\n",
              "      <td>53.0</td>\n",
              "      <td>1.8</td>\n",
              "      <td>NaN</td>\n",
              "      <td>NaN</td>\n",
              "      <td>9.6</td>\n",
              "      <td>7500.0</td>\n",
              "      <td>NaN</td>\n",
              "    </tr>\n",
              "    <tr>\n",
              "      <th>3</th>\n",
              "      <td>48.0</td>\n",
              "      <td>70.0</td>\n",
              "      <td>1.005</td>\n",
              "      <td>4.0</td>\n",
              "      <td>0.0</td>\n",
              "      <td>117.0</td>\n",
              "      <td>56.0</td>\n",
              "      <td>3.8</td>\n",
              "      <td>111.0</td>\n",
              "      <td>2.5</td>\n",
              "      <td>11.2</td>\n",
              "      <td>6700.0</td>\n",
              "      <td>3.9</td>\n",
              "    </tr>\n",
              "    <tr>\n",
              "      <th>4</th>\n",
              "      <td>51.0</td>\n",
              "      <td>80.0</td>\n",
              "      <td>1.010</td>\n",
              "      <td>2.0</td>\n",
              "      <td>0.0</td>\n",
              "      <td>106.0</td>\n",
              "      <td>26.0</td>\n",
              "      <td>1.4</td>\n",
              "      <td>NaN</td>\n",
              "      <td>NaN</td>\n",
              "      <td>11.6</td>\n",
              "      <td>7300.0</td>\n",
              "      <td>4.6</td>\n",
              "    </tr>\n",
              "  </tbody>\n",
              "</table>\n",
              "</div>\n",
              "      <button class=\"colab-df-convert\" onclick=\"convertToInteractive('df-7d425dcc-2e66-4a83-9b61-3f64f98202b6')\"\n",
              "              title=\"Convert this dataframe to an interactive table.\"\n",
              "              style=\"display:none;\">\n",
              "        \n",
              "  <svg xmlns=\"http://www.w3.org/2000/svg\" height=\"24px\"viewBox=\"0 0 24 24\"\n",
              "       width=\"24px\">\n",
              "    <path d=\"M0 0h24v24H0V0z\" fill=\"none\"/>\n",
              "    <path d=\"M18.56 5.44l.94 2.06.94-2.06 2.06-.94-2.06-.94-.94-2.06-.94 2.06-2.06.94zm-11 1L8.5 8.5l.94-2.06 2.06-.94-2.06-.94L8.5 2.5l-.94 2.06-2.06.94zm10 10l.94 2.06.94-2.06 2.06-.94-2.06-.94-.94-2.06-.94 2.06-2.06.94z\"/><path d=\"M17.41 7.96l-1.37-1.37c-.4-.4-.92-.59-1.43-.59-.52 0-1.04.2-1.43.59L10.3 9.45l-7.72 7.72c-.78.78-.78 2.05 0 2.83L4 21.41c.39.39.9.59 1.41.59.51 0 1.02-.2 1.41-.59l7.78-7.78 2.81-2.81c.8-.78.8-2.07 0-2.86zM5.41 20L4 18.59l7.72-7.72 1.47 1.35L5.41 20z\"/>\n",
              "  </svg>\n",
              "      </button>\n",
              "      \n",
              "  <style>\n",
              "    .colab-df-container {\n",
              "      display:flex;\n",
              "      flex-wrap:wrap;\n",
              "      gap: 12px;\n",
              "    }\n",
              "\n",
              "    .colab-df-convert {\n",
              "      background-color: #E8F0FE;\n",
              "      border: none;\n",
              "      border-radius: 50%;\n",
              "      cursor: pointer;\n",
              "      display: none;\n",
              "      fill: #1967D2;\n",
              "      height: 32px;\n",
              "      padding: 0 0 0 0;\n",
              "      width: 32px;\n",
              "    }\n",
              "\n",
              "    .colab-df-convert:hover {\n",
              "      background-color: #E2EBFA;\n",
              "      box-shadow: 0px 1px 2px rgba(60, 64, 67, 0.3), 0px 1px 3px 1px rgba(60, 64, 67, 0.15);\n",
              "      fill: #174EA6;\n",
              "    }\n",
              "\n",
              "    [theme=dark] .colab-df-convert {\n",
              "      background-color: #3B4455;\n",
              "      fill: #D2E3FC;\n",
              "    }\n",
              "\n",
              "    [theme=dark] .colab-df-convert:hover {\n",
              "      background-color: #434B5C;\n",
              "      box-shadow: 0px 1px 3px 1px rgba(0, 0, 0, 0.15);\n",
              "      filter: drop-shadow(0px 1px 2px rgba(0, 0, 0, 0.3));\n",
              "      fill: #FFFFFF;\n",
              "    }\n",
              "  </style>\n",
              "\n",
              "      <script>\n",
              "        const buttonEl =\n",
              "          document.querySelector('#df-7d425dcc-2e66-4a83-9b61-3f64f98202b6 button.colab-df-convert');\n",
              "        buttonEl.style.display =\n",
              "          google.colab.kernel.accessAllowed ? 'block' : 'none';\n",
              "\n",
              "        async function convertToInteractive(key) {\n",
              "          const element = document.querySelector('#df-7d425dcc-2e66-4a83-9b61-3f64f98202b6');\n",
              "          const dataTable =\n",
              "            await google.colab.kernel.invokeFunction('convertToInteractive',\n",
              "                                                     [key], {});\n",
              "          if (!dataTable) return;\n",
              "\n",
              "          const docLinkHtml = 'Like what you see? Visit the ' +\n",
              "            '<a target=\"_blank\" href=https://colab.research.google.com/notebooks/data_table.ipynb>data table notebook</a>'\n",
              "            + ' to learn more about interactive tables.';\n",
              "          element.innerHTML = '';\n",
              "          dataTable['output_type'] = 'display_data';\n",
              "          await google.colab.output.renderOutput(dataTable, element);\n",
              "          const docLink = document.createElement('div');\n",
              "          docLink.innerHTML = docLinkHtml;\n",
              "          element.appendChild(docLink);\n",
              "        }\n",
              "      </script>\n",
              "    </div>\n",
              "  </div>\n",
              "  "
            ]
          },
          "metadata": {},
          "execution_count": 15
        }
      ]
    },
    {
      "cell_type": "code",
      "source": [
        "# checking for null values again\n",
        "\n",
        "data.isna().sum().sort_values(ascending = False)"
      ],
      "metadata": {
        "colab": {
          "base_uri": "https://localhost:8080/"
        },
        "id": "adGc6b4ZzlHT",
        "outputId": "40f5415c-0ead-49ad-f796-ee04d91cc72c"
      },
      "execution_count": 16,
      "outputs": [
        {
          "output_type": "execute_result",
          "data": {
            "text/plain": [
              "red blood cell count      131\n",
              "white blood cell count    106\n",
              "potassium                  88\n",
              "sodium                     87\n",
              "hemoglobin                 52\n",
              "sugar                      49\n",
              "specific gravity           47\n",
              "albumin                    46\n",
              "blood glucose random       44\n",
              "blood urea                 19\n",
              "serum creatinine           17\n",
              "blood_pressure             12\n",
              "age                         9\n",
              "dtype: int64"
            ]
          },
          "metadata": {},
          "execution_count": 16
        }
      ]
    },
    {
      "cell_type": "code",
      "source": [
        "#Let's fill using interpolate\n",
        "\n",
        "data['red blood cell count'] = data['red blood cell count'].interpolate()\n",
        "data['white blood cell count'] = data['white blood cell count'].interpolate()\n",
        "data['potassium'] = data['potassium'].interpolate()\n",
        "data['sodium'] = data['sodium'].interpolate()\n",
        "data['hemoglobin'] = data['hemoglobin'].interpolate()\n",
        "data['sugar'] = data['sugar'].interpolate()\n",
        "data['specific gravity'] = data['specific gravity'].interpolate()\n",
        "data['albumin'] = data['albumin'].interpolate()\n",
        "data['blood glucose random'] = data['blood glucose random'].interpolate()\n",
        "data['blood urea'] = data['blood urea'].interpolate()\n",
        "data['serum creatinine'] = data['serum creatinine'].interpolate()\n",
        "data['blood_pressure'] = data['blood_pressure'].interpolate()\n",
        "data['age'] = data['age'].interpolate()"
      ],
      "metadata": {
        "id": "dWCGcgsWzNQG"
      },
      "execution_count": 19,
      "outputs": []
    },
    {
      "cell_type": "code",
      "source": [
        "data.head()"
      ],
      "metadata": {
        "colab": {
          "base_uri": "https://localhost:8080/",
          "height": 267
        },
        "id": "SyKrpfZ51QdF",
        "outputId": "1567ae2f-df10-4ebc-c968-d80c1c136cad"
      },
      "execution_count": 20,
      "outputs": [
        {
          "output_type": "execute_result",
          "data": {
            "text/plain": [
              "    age  blood_pressure  specific gravity  albumin  sugar  \\\n",
              "0  48.0            80.0             1.020      1.0    0.0   \n",
              "1   7.0            50.0             1.020      4.0    0.0   \n",
              "2  62.0            80.0             1.010      2.0    3.0   \n",
              "3  48.0            70.0             1.005      4.0    0.0   \n",
              "4  51.0            80.0             1.010      2.0    0.0   \n",
              "\n",
              "   blood glucose random  blood urea  serum creatinine  sodium  potassium  \\\n",
              "0                 121.0        36.0               1.2     NaN        NaN   \n",
              "1                 272.0        18.0               0.8     NaN        NaN   \n",
              "2                 423.0        53.0               1.8     NaN        NaN   \n",
              "3                 117.0        56.0               3.8   111.0       2.50   \n",
              "4                 106.0        26.0               1.4   126.5       2.85   \n",
              "\n",
              "   hemoglobin  white blood cell count  red blood cell count  \n",
              "0        15.4                  7800.0              5.200000  \n",
              "1        11.3                  6000.0              4.766667  \n",
              "2         9.6                  7500.0              4.333333  \n",
              "3        11.2                  6700.0              3.900000  \n",
              "4        11.6                  7300.0              4.600000  "
            ],
            "text/html": [
              "\n",
              "  <div id=\"df-4fcdf791-4a9f-435d-a752-c397167f6229\">\n",
              "    <div class=\"colab-df-container\">\n",
              "      <div>\n",
              "<style scoped>\n",
              "    .dataframe tbody tr th:only-of-type {\n",
              "        vertical-align: middle;\n",
              "    }\n",
              "\n",
              "    .dataframe tbody tr th {\n",
              "        vertical-align: top;\n",
              "    }\n",
              "\n",
              "    .dataframe thead th {\n",
              "        text-align: right;\n",
              "    }\n",
              "</style>\n",
              "<table border=\"1\" class=\"dataframe\">\n",
              "  <thead>\n",
              "    <tr style=\"text-align: right;\">\n",
              "      <th></th>\n",
              "      <th>age</th>\n",
              "      <th>blood_pressure</th>\n",
              "      <th>specific gravity</th>\n",
              "      <th>albumin</th>\n",
              "      <th>sugar</th>\n",
              "      <th>blood glucose random</th>\n",
              "      <th>blood urea</th>\n",
              "      <th>serum creatinine</th>\n",
              "      <th>sodium</th>\n",
              "      <th>potassium</th>\n",
              "      <th>hemoglobin</th>\n",
              "      <th>white blood cell count</th>\n",
              "      <th>red blood cell count</th>\n",
              "    </tr>\n",
              "  </thead>\n",
              "  <tbody>\n",
              "    <tr>\n",
              "      <th>0</th>\n",
              "      <td>48.0</td>\n",
              "      <td>80.0</td>\n",
              "      <td>1.020</td>\n",
              "      <td>1.0</td>\n",
              "      <td>0.0</td>\n",
              "      <td>121.0</td>\n",
              "      <td>36.0</td>\n",
              "      <td>1.2</td>\n",
              "      <td>NaN</td>\n",
              "      <td>NaN</td>\n",
              "      <td>15.4</td>\n",
              "      <td>7800.0</td>\n",
              "      <td>5.200000</td>\n",
              "    </tr>\n",
              "    <tr>\n",
              "      <th>1</th>\n",
              "      <td>7.0</td>\n",
              "      <td>50.0</td>\n",
              "      <td>1.020</td>\n",
              "      <td>4.0</td>\n",
              "      <td>0.0</td>\n",
              "      <td>272.0</td>\n",
              "      <td>18.0</td>\n",
              "      <td>0.8</td>\n",
              "      <td>NaN</td>\n",
              "      <td>NaN</td>\n",
              "      <td>11.3</td>\n",
              "      <td>6000.0</td>\n",
              "      <td>4.766667</td>\n",
              "    </tr>\n",
              "    <tr>\n",
              "      <th>2</th>\n",
              "      <td>62.0</td>\n",
              "      <td>80.0</td>\n",
              "      <td>1.010</td>\n",
              "      <td>2.0</td>\n",
              "      <td>3.0</td>\n",
              "      <td>423.0</td>\n",
              "      <td>53.0</td>\n",
              "      <td>1.8</td>\n",
              "      <td>NaN</td>\n",
              "      <td>NaN</td>\n",
              "      <td>9.6</td>\n",
              "      <td>7500.0</td>\n",
              "      <td>4.333333</td>\n",
              "    </tr>\n",
              "    <tr>\n",
              "      <th>3</th>\n",
              "      <td>48.0</td>\n",
              "      <td>70.0</td>\n",
              "      <td>1.005</td>\n",
              "      <td>4.0</td>\n",
              "      <td>0.0</td>\n",
              "      <td>117.0</td>\n",
              "      <td>56.0</td>\n",
              "      <td>3.8</td>\n",
              "      <td>111.0</td>\n",
              "      <td>2.50</td>\n",
              "      <td>11.2</td>\n",
              "      <td>6700.0</td>\n",
              "      <td>3.900000</td>\n",
              "    </tr>\n",
              "    <tr>\n",
              "      <th>4</th>\n",
              "      <td>51.0</td>\n",
              "      <td>80.0</td>\n",
              "      <td>1.010</td>\n",
              "      <td>2.0</td>\n",
              "      <td>0.0</td>\n",
              "      <td>106.0</td>\n",
              "      <td>26.0</td>\n",
              "      <td>1.4</td>\n",
              "      <td>126.5</td>\n",
              "      <td>2.85</td>\n",
              "      <td>11.6</td>\n",
              "      <td>7300.0</td>\n",
              "      <td>4.600000</td>\n",
              "    </tr>\n",
              "  </tbody>\n",
              "</table>\n",
              "</div>\n",
              "      <button class=\"colab-df-convert\" onclick=\"convertToInteractive('df-4fcdf791-4a9f-435d-a752-c397167f6229')\"\n",
              "              title=\"Convert this dataframe to an interactive table.\"\n",
              "              style=\"display:none;\">\n",
              "        \n",
              "  <svg xmlns=\"http://www.w3.org/2000/svg\" height=\"24px\"viewBox=\"0 0 24 24\"\n",
              "       width=\"24px\">\n",
              "    <path d=\"M0 0h24v24H0V0z\" fill=\"none\"/>\n",
              "    <path d=\"M18.56 5.44l.94 2.06.94-2.06 2.06-.94-2.06-.94-.94-2.06-.94 2.06-2.06.94zm-11 1L8.5 8.5l.94-2.06 2.06-.94-2.06-.94L8.5 2.5l-.94 2.06-2.06.94zm10 10l.94 2.06.94-2.06 2.06-.94-2.06-.94-.94-2.06-.94 2.06-2.06.94z\"/><path d=\"M17.41 7.96l-1.37-1.37c-.4-.4-.92-.59-1.43-.59-.52 0-1.04.2-1.43.59L10.3 9.45l-7.72 7.72c-.78.78-.78 2.05 0 2.83L4 21.41c.39.39.9.59 1.41.59.51 0 1.02-.2 1.41-.59l7.78-7.78 2.81-2.81c.8-.78.8-2.07 0-2.86zM5.41 20L4 18.59l7.72-7.72 1.47 1.35L5.41 20z\"/>\n",
              "  </svg>\n",
              "      </button>\n",
              "      \n",
              "  <style>\n",
              "    .colab-df-container {\n",
              "      display:flex;\n",
              "      flex-wrap:wrap;\n",
              "      gap: 12px;\n",
              "    }\n",
              "\n",
              "    .colab-df-convert {\n",
              "      background-color: #E8F0FE;\n",
              "      border: none;\n",
              "      border-radius: 50%;\n",
              "      cursor: pointer;\n",
              "      display: none;\n",
              "      fill: #1967D2;\n",
              "      height: 32px;\n",
              "      padding: 0 0 0 0;\n",
              "      width: 32px;\n",
              "    }\n",
              "\n",
              "    .colab-df-convert:hover {\n",
              "      background-color: #E2EBFA;\n",
              "      box-shadow: 0px 1px 2px rgba(60, 64, 67, 0.3), 0px 1px 3px 1px rgba(60, 64, 67, 0.15);\n",
              "      fill: #174EA6;\n",
              "    }\n",
              "\n",
              "    [theme=dark] .colab-df-convert {\n",
              "      background-color: #3B4455;\n",
              "      fill: #D2E3FC;\n",
              "    }\n",
              "\n",
              "    [theme=dark] .colab-df-convert:hover {\n",
              "      background-color: #434B5C;\n",
              "      box-shadow: 0px 1px 3px 1px rgba(0, 0, 0, 0.15);\n",
              "      filter: drop-shadow(0px 1px 2px rgba(0, 0, 0, 0.3));\n",
              "      fill: #FFFFFF;\n",
              "    }\n",
              "  </style>\n",
              "\n",
              "      <script>\n",
              "        const buttonEl =\n",
              "          document.querySelector('#df-4fcdf791-4a9f-435d-a752-c397167f6229 button.colab-df-convert');\n",
              "        buttonEl.style.display =\n",
              "          google.colab.kernel.accessAllowed ? 'block' : 'none';\n",
              "\n",
              "        async function convertToInteractive(key) {\n",
              "          const element = document.querySelector('#df-4fcdf791-4a9f-435d-a752-c397167f6229');\n",
              "          const dataTable =\n",
              "            await google.colab.kernel.invokeFunction('convertToInteractive',\n",
              "                                                     [key], {});\n",
              "          if (!dataTable) return;\n",
              "\n",
              "          const docLinkHtml = 'Like what you see? Visit the ' +\n",
              "            '<a target=\"_blank\" href=https://colab.research.google.com/notebooks/data_table.ipynb>data table notebook</a>'\n",
              "            + ' to learn more about interactive tables.';\n",
              "          element.innerHTML = '';\n",
              "          dataTable['output_type'] = 'display_data';\n",
              "          await google.colab.output.renderOutput(dataTable, element);\n",
              "          const docLink = document.createElement('div');\n",
              "          docLink.innerHTML = docLinkHtml;\n",
              "          element.appendChild(docLink);\n",
              "        }\n",
              "      </script>\n",
              "    </div>\n",
              "  </div>\n",
              "  "
            ]
          },
          "metadata": {},
          "execution_count": 20
        }
      ]
    },
    {
      "cell_type": "code",
      "source": [
        "data.isna().sum().sort_values(ascending = False)"
      ],
      "metadata": {
        "colab": {
          "base_uri": "https://localhost:8080/"
        },
        "id": "vODReRSd1f1Q",
        "outputId": "4eaf5024-e26c-4a65-adfd-a5931259b79f"
      },
      "execution_count": 23,
      "outputs": [
        {
          "output_type": "execute_result",
          "data": {
            "text/plain": [
              "age                       0\n",
              "blood_pressure            0\n",
              "specific gravity          0\n",
              "albumin                   0\n",
              "sugar                     0\n",
              "blood glucose random      0\n",
              "blood urea                0\n",
              "serum creatinine          0\n",
              "sodium                    0\n",
              "potassium                 0\n",
              "hemoglobin                0\n",
              "white blood cell count    0\n",
              "red blood cell count      0\n",
              "dtype: int64"
            ]
          },
          "metadata": {},
          "execution_count": 23
        }
      ]
    },
    {
      "cell_type": "code",
      "source": [
        "# data['sodium'].fillna(data['sodium'].mean(), inplace = True)\n",
        "# data['potassium'].fillna(data['potassium'].mean(), inplace = True)"
      ],
      "metadata": {
        "id": "VkQ4EPwN1tlC"
      },
      "execution_count": 24,
      "outputs": []
    },
    {
      "cell_type": "code",
      "source": [
        "#Ckecking for outliers\n",
        "\n",
        "import numpy as np\n",
        "\n",
        "from scipy import stats\n",
        "\n",
        "z = np.abs(stats.zscore(data)) #This convert to normal distribution\n",
        "\n",
        "outliers = list(set(np.where(z >3)[0]))\n",
        "\n",
        "len(outliers)"
      ],
      "metadata": {
        "colab": {
          "base_uri": "https://localhost:8080/"
        },
        "id": "7SSDJtX52K3O",
        "outputId": "1a70ae58-243d-488e-e353-167a98f94bbe"
      },
      "execution_count": 27,
      "outputs": [
        {
          "output_type": "execute_result",
          "data": {
            "text/plain": [
              "44"
            ]
          },
          "metadata": {},
          "execution_count": 27
        }
      ]
    },
    {
      "cell_type": "markdown",
      "source": [
        "## Hierarchal Clustering"
      ],
      "metadata": {
        "id": "g3zy0TF93Hv8"
      }
    },
    {
      "cell_type": "code",
      "source": [
        "from sklearn.cluster import AgglomerativeClustering\n",
        "from sklearn.metrics import silhouette_score as ss\n"
      ],
      "metadata": {
        "id": "OSwvk0SR3RAM"
      },
      "execution_count": 28,
      "outputs": []
    },
    {
      "cell_type": "code",
      "source": [
        "#finding the number of Agglomerative clusters\n",
        "Agg_score = []\n",
        "\n",
        "for i in range(2,15):\n",
        "    model = AgglomerativeClustering(n_clusters = i, affinity = 'euclidean', linkage ='ward')\n",
        "    pre = model.fit_predict(data)\n",
        "    Agg_score = ss(data, pre)\n",
        "    print(i, 'score is : ', Agg_score)"
      ],
      "metadata": {
        "colab": {
          "base_uri": "https://localhost:8080/"
        },
        "id": "CcFMPMKH2qEl",
        "outputId": "b7fff8b0-ace6-42af-f5f6-371275aecdf7"
      },
      "execution_count": 29,
      "outputs": [
        {
          "output_type": "stream",
          "name": "stdout",
          "text": [
            "2 score is :  0.5647351020366043\n",
            "3 score is :  0.5269770923521166\n",
            "4 score is :  0.5434900374122467\n",
            "5 score is :  0.556793612722048\n",
            "6 score is :  0.5506542573732228\n",
            "7 score is :  0.5143924519090891\n",
            "8 score is :  0.5459580649495183\n",
            "9 score is :  0.5471019679211835\n",
            "10 score is :  0.5467868127987494\n",
            "11 score is :  0.5129266362024336\n",
            "12 score is :  0.5024985257231547\n",
            "13 score is :  0.4972599620461368\n",
            "14 score is :  0.5010589509604545\n"
          ]
        }
      ]
    },
    {
      "cell_type": "code",
      "source": [
        "#From the above the best cluster is 2\n",
        "\n",
        "\n",
        "\n",
        "model=AgglomerativeClustering(n_clusters=2, affinity='euclidean', linkage='ward')\n",
        "\n",
        "clust_labels=model.fit_predict(data)  #Applying agglomerative algorithm with 5 clusters, using euclidean distance as a metric"
      ],
      "metadata": {
        "id": "bVzuZ1sY3c9p"
      },
      "execution_count": 30,
      "outputs": []
    },
    {
      "cell_type": "code",
      "source": [
        "data['CLUSTER'] = clust_labels\n",
        "\n",
        "data.head()"
      ],
      "metadata": {
        "colab": {
          "base_uri": "https://localhost:8080/",
          "height": 267
        },
        "id": "oBR4vB0F4Mrl",
        "outputId": "7af11120-8dda-465d-aeb7-695f90001ef8"
      },
      "execution_count": 31,
      "outputs": [
        {
          "output_type": "execute_result",
          "data": {
            "text/plain": [
              "    age  blood_pressure  specific gravity  albumin  sugar  \\\n",
              "0  48.0            80.0             1.020      1.0    0.0   \n",
              "1   7.0            50.0             1.020      4.0    0.0   \n",
              "2  62.0            80.0             1.010      2.0    3.0   \n",
              "3  48.0            70.0             1.005      4.0    0.0   \n",
              "4  51.0            80.0             1.010      2.0    0.0   \n",
              "\n",
              "   blood glucose random  blood urea  serum creatinine     sodium  potassium  \\\n",
              "0                 121.0        36.0               1.2  136.86398    4.59471   \n",
              "1                 272.0        18.0               0.8  136.86398    4.59471   \n",
              "2                 423.0        53.0               1.8  136.86398    4.59471   \n",
              "3                 117.0        56.0               3.8  111.00000    2.50000   \n",
              "4                 106.0        26.0               1.4  126.50000    2.85000   \n",
              "\n",
              "   hemoglobin  white blood cell count  red blood cell count  CLUSTER  \n",
              "0        15.4                  7800.0              5.200000        1  \n",
              "1        11.3                  6000.0              4.766667        1  \n",
              "2         9.6                  7500.0              4.333333        1  \n",
              "3        11.2                  6700.0              3.900000        1  \n",
              "4        11.6                  7300.0              4.600000        1  "
            ],
            "text/html": [
              "\n",
              "  <div id=\"df-43a2c0ec-0f3c-49fb-ab3d-9d14bc9ca41c\">\n",
              "    <div class=\"colab-df-container\">\n",
              "      <div>\n",
              "<style scoped>\n",
              "    .dataframe tbody tr th:only-of-type {\n",
              "        vertical-align: middle;\n",
              "    }\n",
              "\n",
              "    .dataframe tbody tr th {\n",
              "        vertical-align: top;\n",
              "    }\n",
              "\n",
              "    .dataframe thead th {\n",
              "        text-align: right;\n",
              "    }\n",
              "</style>\n",
              "<table border=\"1\" class=\"dataframe\">\n",
              "  <thead>\n",
              "    <tr style=\"text-align: right;\">\n",
              "      <th></th>\n",
              "      <th>age</th>\n",
              "      <th>blood_pressure</th>\n",
              "      <th>specific gravity</th>\n",
              "      <th>albumin</th>\n",
              "      <th>sugar</th>\n",
              "      <th>blood glucose random</th>\n",
              "      <th>blood urea</th>\n",
              "      <th>serum creatinine</th>\n",
              "      <th>sodium</th>\n",
              "      <th>potassium</th>\n",
              "      <th>hemoglobin</th>\n",
              "      <th>white blood cell count</th>\n",
              "      <th>red blood cell count</th>\n",
              "      <th>CLUSTER</th>\n",
              "    </tr>\n",
              "  </thead>\n",
              "  <tbody>\n",
              "    <tr>\n",
              "      <th>0</th>\n",
              "      <td>48.0</td>\n",
              "      <td>80.0</td>\n",
              "      <td>1.020</td>\n",
              "      <td>1.0</td>\n",
              "      <td>0.0</td>\n",
              "      <td>121.0</td>\n",
              "      <td>36.0</td>\n",
              "      <td>1.2</td>\n",
              "      <td>136.86398</td>\n",
              "      <td>4.59471</td>\n",
              "      <td>15.4</td>\n",
              "      <td>7800.0</td>\n",
              "      <td>5.200000</td>\n",
              "      <td>1</td>\n",
              "    </tr>\n",
              "    <tr>\n",
              "      <th>1</th>\n",
              "      <td>7.0</td>\n",
              "      <td>50.0</td>\n",
              "      <td>1.020</td>\n",
              "      <td>4.0</td>\n",
              "      <td>0.0</td>\n",
              "      <td>272.0</td>\n",
              "      <td>18.0</td>\n",
              "      <td>0.8</td>\n",
              "      <td>136.86398</td>\n",
              "      <td>4.59471</td>\n",
              "      <td>11.3</td>\n",
              "      <td>6000.0</td>\n",
              "      <td>4.766667</td>\n",
              "      <td>1</td>\n",
              "    </tr>\n",
              "    <tr>\n",
              "      <th>2</th>\n",
              "      <td>62.0</td>\n",
              "      <td>80.0</td>\n",
              "      <td>1.010</td>\n",
              "      <td>2.0</td>\n",
              "      <td>3.0</td>\n",
              "      <td>423.0</td>\n",
              "      <td>53.0</td>\n",
              "      <td>1.8</td>\n",
              "      <td>136.86398</td>\n",
              "      <td>4.59471</td>\n",
              "      <td>9.6</td>\n",
              "      <td>7500.0</td>\n",
              "      <td>4.333333</td>\n",
              "      <td>1</td>\n",
              "    </tr>\n",
              "    <tr>\n",
              "      <th>3</th>\n",
              "      <td>48.0</td>\n",
              "      <td>70.0</td>\n",
              "      <td>1.005</td>\n",
              "      <td>4.0</td>\n",
              "      <td>0.0</td>\n",
              "      <td>117.0</td>\n",
              "      <td>56.0</td>\n",
              "      <td>3.8</td>\n",
              "      <td>111.00000</td>\n",
              "      <td>2.50000</td>\n",
              "      <td>11.2</td>\n",
              "      <td>6700.0</td>\n",
              "      <td>3.900000</td>\n",
              "      <td>1</td>\n",
              "    </tr>\n",
              "    <tr>\n",
              "      <th>4</th>\n",
              "      <td>51.0</td>\n",
              "      <td>80.0</td>\n",
              "      <td>1.010</td>\n",
              "      <td>2.0</td>\n",
              "      <td>0.0</td>\n",
              "      <td>106.0</td>\n",
              "      <td>26.0</td>\n",
              "      <td>1.4</td>\n",
              "      <td>126.50000</td>\n",
              "      <td>2.85000</td>\n",
              "      <td>11.6</td>\n",
              "      <td>7300.0</td>\n",
              "      <td>4.600000</td>\n",
              "      <td>1</td>\n",
              "    </tr>\n",
              "  </tbody>\n",
              "</table>\n",
              "</div>\n",
              "      <button class=\"colab-df-convert\" onclick=\"convertToInteractive('df-43a2c0ec-0f3c-49fb-ab3d-9d14bc9ca41c')\"\n",
              "              title=\"Convert this dataframe to an interactive table.\"\n",
              "              style=\"display:none;\">\n",
              "        \n",
              "  <svg xmlns=\"http://www.w3.org/2000/svg\" height=\"24px\"viewBox=\"0 0 24 24\"\n",
              "       width=\"24px\">\n",
              "    <path d=\"M0 0h24v24H0V0z\" fill=\"none\"/>\n",
              "    <path d=\"M18.56 5.44l.94 2.06.94-2.06 2.06-.94-2.06-.94-.94-2.06-.94 2.06-2.06.94zm-11 1L8.5 8.5l.94-2.06 2.06-.94-2.06-.94L8.5 2.5l-.94 2.06-2.06.94zm10 10l.94 2.06.94-2.06 2.06-.94-2.06-.94-.94-2.06-.94 2.06-2.06.94z\"/><path d=\"M17.41 7.96l-1.37-1.37c-.4-.4-.92-.59-1.43-.59-.52 0-1.04.2-1.43.59L10.3 9.45l-7.72 7.72c-.78.78-.78 2.05 0 2.83L4 21.41c.39.39.9.59 1.41.59.51 0 1.02-.2 1.41-.59l7.78-7.78 2.81-2.81c.8-.78.8-2.07 0-2.86zM5.41 20L4 18.59l7.72-7.72 1.47 1.35L5.41 20z\"/>\n",
              "  </svg>\n",
              "      </button>\n",
              "      \n",
              "  <style>\n",
              "    .colab-df-container {\n",
              "      display:flex;\n",
              "      flex-wrap:wrap;\n",
              "      gap: 12px;\n",
              "    }\n",
              "\n",
              "    .colab-df-convert {\n",
              "      background-color: #E8F0FE;\n",
              "      border: none;\n",
              "      border-radius: 50%;\n",
              "      cursor: pointer;\n",
              "      display: none;\n",
              "      fill: #1967D2;\n",
              "      height: 32px;\n",
              "      padding: 0 0 0 0;\n",
              "      width: 32px;\n",
              "    }\n",
              "\n",
              "    .colab-df-convert:hover {\n",
              "      background-color: #E2EBFA;\n",
              "      box-shadow: 0px 1px 2px rgba(60, 64, 67, 0.3), 0px 1px 3px 1px rgba(60, 64, 67, 0.15);\n",
              "      fill: #174EA6;\n",
              "    }\n",
              "\n",
              "    [theme=dark] .colab-df-convert {\n",
              "      background-color: #3B4455;\n",
              "      fill: #D2E3FC;\n",
              "    }\n",
              "\n",
              "    [theme=dark] .colab-df-convert:hover {\n",
              "      background-color: #434B5C;\n",
              "      box-shadow: 0px 1px 3px 1px rgba(0, 0, 0, 0.15);\n",
              "      filter: drop-shadow(0px 1px 2px rgba(0, 0, 0, 0.3));\n",
              "      fill: #FFFFFF;\n",
              "    }\n",
              "  </style>\n",
              "\n",
              "      <script>\n",
              "        const buttonEl =\n",
              "          document.querySelector('#df-43a2c0ec-0f3c-49fb-ab3d-9d14bc9ca41c button.colab-df-convert');\n",
              "        buttonEl.style.display =\n",
              "          google.colab.kernel.accessAllowed ? 'block' : 'none';\n",
              "\n",
              "        async function convertToInteractive(key) {\n",
              "          const element = document.querySelector('#df-43a2c0ec-0f3c-49fb-ab3d-9d14bc9ca41c');\n",
              "          const dataTable =\n",
              "            await google.colab.kernel.invokeFunction('convertToInteractive',\n",
              "                                                     [key], {});\n",
              "          if (!dataTable) return;\n",
              "\n",
              "          const docLinkHtml = 'Like what you see? Visit the ' +\n",
              "            '<a target=\"_blank\" href=https://colab.research.google.com/notebooks/data_table.ipynb>data table notebook</a>'\n",
              "            + ' to learn more about interactive tables.';\n",
              "          element.innerHTML = '';\n",
              "          dataTable['output_type'] = 'display_data';\n",
              "          await google.colab.output.renderOutput(dataTable, element);\n",
              "          const docLink = document.createElement('div');\n",
              "          docLink.innerHTML = docLinkHtml;\n",
              "          element.appendChild(docLink);\n",
              "        }\n",
              "      </script>\n",
              "    </div>\n",
              "  </div>\n",
              "  "
            ]
          },
          "metadata": {},
          "execution_count": 31
        }
      ]
    },
    {
      "cell_type": "code",
      "source": [
        "cluster1 = data[data.CLUSTER ==0]\n",
        "cluster2 = data[data.CLUSTER ==1]\n",
        "print(cluster1['CLUSTER'].value_counts())\n",
        "print(cluster2['CLUSTER'].value_counts())\n"
      ],
      "metadata": {
        "colab": {
          "base_uri": "https://localhost:8080/"
        },
        "id": "6y9C-edK4WDG",
        "outputId": "8f306ff2-aa1d-441b-bd6a-9bca468639a0"
      },
      "execution_count": 32,
      "outputs": [
        {
          "output_type": "stream",
          "name": "stdout",
          "text": [
            "0    173\n",
            "Name: CLUSTER, dtype: int64\n",
            "1    227\n",
            "Name: CLUSTER, dtype: int64\n"
          ]
        }
      ]
    },
    {
      "cell_type": "markdown",
      "source": [
        "## Visualizing and Plotting the Clusters"
      ],
      "metadata": {
        "id": "fJEBBTBZ41x8"
      }
    },
    {
      "cell_type": "code",
      "source": [
        "import seaborn as sb\n",
        "\n",
        "sb.countplot(x = 'CLUSTER', data = data)\n",
        "plt.title('AGGLOMERATIVE CLUSTER COUNTS')"
      ],
      "metadata": {
        "colab": {
          "base_uri": "https://localhost:8080/",
          "height": 314
        },
        "id": "cdqUBcG84wWj",
        "outputId": "2a4fa2a5-979f-494f-eaec-1e3be4abbaef"
      },
      "execution_count": 33,
      "outputs": [
        {
          "output_type": "execute_result",
          "data": {
            "text/plain": [
              "Text(0.5, 1.0, 'AGGLOMERATIVE CLUSTER COUNTS')"
            ]
          },
          "metadata": {},
          "execution_count": 33
        },
        {
          "output_type": "display_data",
          "data": {
            "text/plain": [
              "<Figure size 432x288 with 1 Axes>"
            ],
            "image/png": "[encoded data removed]"
          },
          "metadata": {
            "needs_background": "light"
          }
        }
      ]
    },
    {
      "cell_type": "code",
      "source": [
        "from matplotlib import pyplot as plt\n",
        "\n",
        "plt.scatter(cluster1['serum creatinine'], cluster1['blood_pressure'], c = 'red', label = 'Cluster one')\n",
        "plt.scatter(cluster2['serum creatinine'], cluster2['blood_pressure'], c = 'green', label = 'Cluster two')\n",
        "\n",
        "\n",
        "\n",
        "plt.title('AGGLOMERATIVE CLUSTERING')\n",
        "plt.xlabel('serum creatinine')\n",
        "plt.ylabel('blood_pressure')\n",
        "plt.legend()"
      ],
      "metadata": {
        "colab": {
          "base_uri": "https://localhost:8080/",
          "height": 314
        },
        "id": "DPer7qzv5Kx1",
        "outputId": "5456c8e0-bfa0-4984-e78f-36dca296bdb5"
      },
      "execution_count": 37,
      "outputs": [
        {
          "output_type": "execute_result",
          "data": {
            "text/plain": [
              "<matplotlib.legend.Legend at 0x7ff7817a9880>"
            ]
          },
          "metadata": {},
          "execution_count": 37
        },
        {
          "output_type": "display_data",
          "data": {
            "text/plain": [
              "<Figure size 432x288 with 1 Axes>"
            ],
            "image/png": "[encoded data removed]"
          },
          "metadata": {
            "needs_background": "light"
          }
        }
      ]
    },
    {
      "cell_type": "markdown",
      "source": [
        "## Plotting the Dendrogram"
      ],
      "metadata": {
        "id": "v0ETzCFi7xXD"
      }
    },
    {
      "cell_type": "code",
      "source": [
        "import matplotlib.pyplot as plt\n",
        "import scipy.cluster.hierarchy as shc\n",
        "plt.figure(figsize=(10,7))\n",
        "plt.title(\"Customer Dendrograms\")\n",
        "dend=shc.dendrogram(shc.linkage(data, method=\"ward\"))"
      ],
      "metadata": {
        "colab": {
          "base_uri": "https://localhost:8080/",
          "height": 442
        },
        "id": "QD1Ovxh66yqp",
        "outputId": "2cbb6f2a-0c06-4999-e48d-785af22914c0"
      },
      "execution_count": 38,
      "outputs": [
        {
          "output_type": "display_data",
          "data": {
            "text/plain": [
              "<Figure size 720x504 with 1 Axes>"
            ],
            "image/png": "[encoded data removed]"
          },
          "metadata": {
            "needs_background": "light"
          }
        }
      ]
    },
    {
      "cell_type": "markdown",
      "source": [
        "## K-Means"
      ],
      "metadata": {
        "id": "Yt6TAk3V8Kov"
      }
    },
    {
      "cell_type": "code",
      "source": [
        "from sklearn.cluster import KMeans\n",
        "from sklearn.metrics import silhouette_score as ss\n",
        "\n",
        "#Using silhouete score to determine the best number of clusters\n",
        "\n",
        "\n",
        "sil_score =[]\n",
        "for i in range(2,20):\n",
        "    kmeans = KMeans(n_clusters = i, random_state = 50) \n",
        "    k_predict = kmeans.fit_predict(data)\n",
        "    sil_score = ss(data, k_predict)\n",
        "    print(i, 'score is : ', sil_score)"
      ],
      "metadata": {
        "colab": {
          "base_uri": "https://localhost:8080/"
        },
        "id": "UV0Nt0Ek7_HQ",
        "outputId": "86443f5a-2938-43d3-f8fa-e6ce59b19fa3"
      },
      "execution_count": 39,
      "outputs": [
        {
          "output_type": "stream",
          "name": "stdout",
          "text": [
            "2 score is :  0.5647351318028675\n",
            "3 score is :  0.5789206608505029\n",
            "4 score is :  0.5404009396114009\n",
            "5 score is :  0.5586939428754605\n",
            "6 score is :  0.5438037091455089\n",
            "7 score is :  0.5143163514954019\n",
            "8 score is :  0.5309306072823988\n",
            "9 score is :  0.5271226055228613\n",
            "10 score is :  0.5544629473117739\n",
            "11 score is :  0.533186717018791\n",
            "12 score is :  0.5212864607406619\n",
            "13 score is :  0.49713685611987674\n",
            "14 score is :  0.5191851884732352\n",
            "15 score is :  0.5190519338646307\n",
            "16 score is :  0.49878307154891927\n",
            "17 score is :  0.49901970456919303\n",
            "18 score is :  0.5006342389325377\n",
            "19 score is :  0.5036411913688916\n"
          ]
        }
      ]
    },
    {
      "cell_type": "code",
      "source": [
        "kmeans = KMeans(n_clusters = 3, random_state = 50) ## is the best score from the above\n",
        "k_pre = kmeans.fit_predict(data)\n",
        "sscore = ss(data, k_pre)\n",
        "print(sscore)\n",
        "\n",
        "\n",
        "\n"
      ],
      "metadata": {
        "colab": {
          "base_uri": "https://localhost:8080/"
        },
        "id": "Aia6yX5K89iY",
        "outputId": "12d21e0e-a945-4a6d-ff7f-66c1fa4b08fd"
      },
      "execution_count": 41,
      "outputs": [
        {
          "output_type": "stream",
          "name": "stdout",
          "text": [
            "0.5789206608505029\n"
          ]
        }
      ]
    },
    {
      "cell_type": "code",
      "source": [
        "centroids = kmeans.cluster_centers_\n",
        "\n",
        "print(centroids)"
      ],
      "metadata": {
        "colab": {
          "base_uri": "https://localhost:8080/"
        },
        "id": "n6pxu6ej8bYX",
        "outputId": "c23fe5b9-6950-4c66-8b54-888650fd29d4"
      },
      "execution_count": 40,
      "outputs": [
        {
          "output_type": "stream",
          "name": "stdout",
          "text": [
            "[[ 4.93888889e+01  7.70833333e+01  1.01736111e+00  8.88888889e-01\n",
            "   3.05555556e-01  1.38060185e+02  4.26925926e+01  2.06250000e+00\n",
            "   1.40009259e+02  4.40995370e+00  1.28402778e+01  1.04671296e+04\n",
            "   4.58349206e+00  0.00000000e+00]\n",
            " [ 4.54571429e+01  7.54285714e+01  1.01885714e+00  9.57142857e-01\n",
            "   1.71428571e-01  1.21714286e+02  5.07285714e+01  4.12476190e+00\n",
            "   1.33773810e+02  4.34023810e+00  1.31685714e+01  6.46952381e+03\n",
            "   4.78314286e+00  1.00000000e+00]\n",
            " [ 5.90000000e+01  7.00000000e+01  1.01500000e+00  1.00000000e+00\n",
            "   0.00000000e+00  9.35000000e+01  4.20000000e+01  1.55000000e+00\n",
            "   1.30500000e+02  3.90000000e+00  1.00000000e+01  1.90000000e+04\n",
            "   3.60000000e+00  0.00000000e+00]\n",
            " [ 4.72500000e+01  7.36111111e+01  1.01333333e+00  1.83333333e+00\n",
            "   8.75000000e-01  1.84819444e+02  4.95000000e+01  5.93333333e+00\n",
            "   1.32854167e+02  4.17708333e+00  1.12833333e+01  1.21902778e+04\n",
            "   3.84476190e+00  1.11022302e-16]\n",
            " [ 5.12352941e+01  7.64705882e+01  1.01754902e+00  8.92156863e-01\n",
            "   2.64705882e-01  1.47705882e+02  5.43529412e+01  2.40588235e+00\n",
            "   1.36956863e+02  7.05186275e+00  1.23813725e+01  4.91960784e+03\n",
            "   4.29411765e+00  1.00000000e+00]\n",
            " [ 5.56805556e+01  7.34722222e+01  1.01677083e+00  8.12500000e-01\n",
            "   4.86111111e-01  1.41421296e+02  5.81944444e+01  2.47870370e+00\n",
            "   1.37009259e+02  4.45393519e+00  1.27652778e+01  8.36240079e+03\n",
            "   4.77328704e+00  1.00000000e+00]\n",
            " [ 5.90000000e+01  1.00000000e+02  1.02000000e+00  4.00000000e+00\n",
            "   2.00000000e+00  2.52000000e+02  4.00000000e+01  3.20000000e+00\n",
            "   1.37000000e+02  4.70000000e+00  1.12000000e+01  2.64000000e+04\n",
            "   3.90000000e+00  0.00000000e+00]\n",
            " [ 5.28571429e+01  7.14285714e+01  1.01404762e+00  2.07142857e+00\n",
            "   1.14285714e+00  1.69714286e+02  1.08571429e+02  5.51428571e+00\n",
            "   1.34190476e+02  3.88095238e+00  9.81428571e+00  1.47452381e+04\n",
            "   3.51564626e+00  1.11022302e-16]\n",
            " [ 5.15916667e+01  7.46250000e+01  1.01837500e+00  1.20000000e+00\n",
            "   3.25000000e-01  1.34083333e+02  6.08250000e+01  3.10000000e+00\n",
            "   1.39722366e+02  5.31848552e+00  1.20316667e+01  7.69830357e+03\n",
            "   4.53169643e+00  1.00000000e+00]\n",
            " [ 5.58833333e+01  8.06666667e+01  1.01537500e+00  1.31250000e+00\n",
            "   9.12500000e-01  1.71568750e+02  5.78291667e+01  2.82500000e+00\n",
            "   1.37262500e+02  4.24625000e+00  1.23087500e+01  9.69613095e+03\n",
            "   4.41033333e+00 -2.22044605e-16]\n",
            " [ 4.90588235e+01  7.41176471e+01  1.01632353e+00  1.26470588e+00\n",
            "   5.88235294e-02  1.58352941e+02  7.57647059e+01  3.84705882e+00\n",
            "   1.34909804e+02  4.70901961e+00  1.16558824e+01  4.26078431e+03\n",
            "   4.08823529e+00  1.00000000e+00]\n",
            " [ 5.95000000e+01  7.40000000e+01  1.01637500e+00  1.20000000e+00\n",
            "   7.75000000e-01  1.39562500e+02  5.52250000e+01  2.77750000e+00\n",
            "   1.35966667e+02  4.09166667e+00  1.18758333e+01  1.11908333e+04\n",
            "   4.25323810e+00  0.00000000e+00]\n",
            " [ 6.00000000e+01  7.00000000e+01  1.01000000e+00  2.00000000e+00\n",
            "   0.00000000e+00  1.44000000e+02  7.20000000e+01  3.00000000e+00\n",
            "   1.33500000e+02  4.15000000e+00  9.70000000e+00  2.16000000e+04\n",
            "   3.50000000e+00  0.00000000e+00]\n",
            " [ 4.86875000e+01  7.81250000e+01  1.01856771e+00  6.97916667e-01\n",
            "   1.56250000e-01  1.35468750e+02  5.22343750e+01  1.80468750e+00\n",
            "   1.36487416e+02  4.38295970e+00  1.29916667e+01  5.66093750e+03\n",
            "   4.77822917e+00  1.00000000e+00]\n",
            " [ 5.32738095e+01  7.57142857e+01  1.01723214e+00  9.46428571e-01\n",
            "   6.54761905e-01  1.52250000e+02  5.75119048e+01  2.87142857e+00\n",
            "   1.38803571e+02  4.54265873e+00  1.23210317e+01  9.18611111e+03\n",
            "   4.48615079e+00 -1.11022302e-16]\n",
            " [ 3.30000000e+01  8.00000000e+01  1.02250000e+00  5.00000000e-01\n",
            "   0.00000000e+00  1.43500000e+02  1.21000000e+02  9.50000000e+00\n",
            "   1.20500000e+02  5.35000000e+00  9.10000000e+00  2.40000000e+03\n",
            "   3.85000000e+00  1.00000000e+00]\n",
            " [ 4.70000000e+01  7.25000000e+01  1.01000000e+00  2.50000000e+00\n",
            "   1.00000000e+00  1.74250000e+02  1.30500000e+02  6.02500000e+00\n",
            "   1.30000000e+02  4.14166667e+00  9.50000000e+00  1.61750000e+04\n",
            "   3.76000000e+00  0.00000000e+00]\n",
            " [ 4.84166667e+01  7.73958333e+01  1.01869792e+00  7.18750000e-01\n",
            "   3.75000000e-01  1.57541667e+02  4.73562500e+01  2.77187500e+00\n",
            "   1.36946181e+02  4.50243056e+00  1.29027778e+01  7.06721230e+03\n",
            "   4.77435020e+00  1.00000000e+00]\n",
            " [ 6.37500000e+01  8.18750000e+01  1.01427083e+00  2.25000000e+00\n",
            "   1.12500000e+00  2.06625000e+02  9.31250000e+01  4.76250000e+00\n",
            "   1.34191667e+02  4.26833333e+00  1.09916667e+01  1.30500000e+04\n",
            "   3.96535714e+00  0.00000000e+00]]\n"
          ]
        }
      ]
    },
    {
      "cell_type": "code",
      "source": [],
      "metadata": {
        "id": "Md9fF46X80MO"
      },
      "execution_count": null,
      "outputs": []
    },
    {
      "cell_type": "markdown",
      "source": [
        "## K-means Cluster Counts"
      ],
      "metadata": {
        "id": "nvo3tmQW8q-0"
      }
    },
    {
      "cell_type": "code",
      "source": [
        "import seaborn as sb\n",
        "\n",
        "data['Clusters'] = k_predict\n",
        "print((data.Clusters ==1).value_counts())\n",
        "\n",
        "sb.countplot(x = 'Clusters', data = data)\n",
        "plt.title('Cluster Counts')"
      ],
      "metadata": {
        "colab": {
          "base_uri": "https://localhost:8080/",
          "height": 368
        },
        "id": "KPzgTPXW8lOK",
        "outputId": "38aa1ef1-fbec-419f-c57c-06b306b0a60e"
      },
      "execution_count": 42,
      "outputs": [
        {
          "output_type": "stream",
          "name": "stdout",
          "text": [
            "False    365\n",
            "True      35\n",
            "Name: Clusters, dtype: int64\n"
          ]
        },
        {
          "output_type": "execute_result",
          "data": {
            "text/plain": [
              "Text(0.5, 1.0, 'Cluster Counts')"
            ]
          },
          "metadata": {},
          "execution_count": 42
        },
        {
          "output_type": "display_data",
          "data": {
            "text/plain": [
              "<Figure size 432x288 with 1 Axes>"
            ],
            "image/png": "[encoded data removed]"
          },
          "metadata": {
            "needs_background": "light"
          }
        }
      ]
    },
    {
      "cell_type": "markdown",
      "source": [
        "## Plotting the Clusters"
      ],
      "metadata": {
        "id": "jXALlOMv9mYl"
      }
    },
    {
      "cell_type": "code",
      "source": [
        "\n",
        "y = plt.scatter(data['blood urea'], data['blood_pressure'], c = data.Clusters)\n",
        "plt.scatter(centroids[:,0], centroids[:,1], s = 80, c ='red', marker = '+' , label = \"Centriods\")\n",
        "\n",
        "plt.title('KMEANS CLUSTERING')\n",
        "plt.xlabel('blood urea')\n",
        "plt.ylabel('blood_pressure')\n",
        "plt.legend()\n",
        "plt.colorbar(y)"
      ],
      "metadata": {
        "colab": {
          "base_uri": "https://localhost:8080/",
          "height": 314
        },
        "id": "-JORg0cO9YPY",
        "outputId": "f8300ec0-a0e1-4048-f17d-54c0eb431de0"
      },
      "execution_count": 46,
      "outputs": [
        {
          "output_type": "execute_result",
          "data": {
            "text/plain": [
              "<matplotlib.colorbar.Colorbar at 0x7ff781360310>"
            ]
          },
          "metadata": {},
          "execution_count": 46
        },
        {
          "output_type": "display_data",
          "data": {
            "text/plain": [
              "<Figure size 432x288 with 2 Axes>"
            ],
            "image/png": "[encoded data removed]"
          },
          "metadata": {
            "needs_background": "light"
          }
        }
      ]
    },
    {
      "cell_type": "markdown",
      "source": [
        "## Elbow Method"
      ],
      "metadata": {
        "id": "5ojFd2Ca_Kj5"
      }
    },
    {
      "cell_type": "code",
      "source": [
        "#Elbow Plot method is use to find the best number of clusters\n",
        "\n",
        "k_range = range(1,7)\n",
        "SSE = []# This is the sum of square error\n",
        "for i in k_range:\n",
        "    km = KMeans(n_clusters = i)\n",
        "    km.fit(data)\n",
        "    SSE.append(km.inertia_)\n",
        "\n",
        "plt.xlabel('K')\n",
        "plt.ylabel('Sum of Square Error')\n",
        "plt.plot(k_range, SSE, 'bx-')\n",
        "plt.title('Elbow method for Optimal K value')"
      ],
      "metadata": {
        "colab": {
          "base_uri": "https://localhost:8080/",
          "height": 314
        },
        "id": "1tWJCDys-Bmj",
        "outputId": "68ba88c1-0028-4970-add1-d7a6789b54c1"
      },
      "execution_count": 47,
      "outputs": [
        {
          "output_type": "execute_result",
          "data": {
            "text/plain": [
              "Text(0.5, 1.0, 'Elbow method for Optimal K value')"
            ]
          },
          "metadata": {},
          "execution_count": 47
        },
        {
          "output_type": "display_data",
          "data": {
            "text/plain": [
              "<Figure size 432x288 with 1 Axes>"
            ],
            "image/png": "[encoded data removed]"
          },
          "metadata": {
            "needs_background": "light"
          }
        }
      ]
    },
    {
      "cell_type": "markdown",
      "source": [
        "## Showing the optimal K"
      ],
      "metadata": {
        "id": "MKK15z-2_3HG"
      }
    },
    {
      "cell_type": "code",
      "source": [
        "#From the above the Optimal K is 3\n",
        "\n",
        "print(data[data.Clusters ==0].head(10))\n",
        "print(data[data.Clusters ==1].head(10))\n",
        "print(data[data.Clusters ==2].head(10))\n",
        "print(data[data.Clusters ==3].head(10))"
      ],
      "metadata": {
        "colab": {
          "base_uri": "https://localhost:8080/"
        },
        "id": "-gd1oQl9_UIC",
        "outputId": "518343a8-b3e6-44eb-badb-63f8ca7c1b36"
      },
      "execution_count": 49,
      "outputs": [
        {
          "output_type": "stream",
          "name": "stdout",
          "text": [
            "      age  blood_pressure  specific gravity  albumin  sugar  \\\n",
            "26   75.0            80.0             1.015      0.0    0.0   \n",
            "55   35.0            80.0             1.005      3.0    0.0   \n",
            "72   64.0            90.0             1.010      3.0    3.0   \n",
            "99   56.0           180.0             1.015      0.0    4.0   \n",
            "100  34.0            70.0             1.015      4.0    0.0   \n",
            "101  71.0            90.0             1.015      2.0    0.0   \n",
            "108  45.0            80.0             1.015      0.0    0.0   \n",
            "109  54.0            70.0             1.015      0.0    0.0   \n",
            "114  12.0            60.0             1.015      3.0    0.0   \n",
            "118  55.0            70.0             1.010      3.0    0.0   \n",
            "\n",
            "     blood glucose random  blood urea  serum creatinine      sodium  \\\n",
            "26                  156.0   45.000000              2.40  140.000000   \n",
            "55                  169.5  117.333333              6.55  133.500000   \n",
            "72                  146.0   35.000000              1.30  136.500000   \n",
            "99                  298.0   24.000000              1.20  139.000000   \n",
            "100                 153.0   22.000000              0.90  133.000000   \n",
            "101                  88.0   80.000000              4.40  139.000000   \n",
            "108                 107.0   15.000000              1.00  141.000000   \n",
            "109                 233.0   50.100000              1.90  141.500000   \n",
            "114                 180.0   51.000000              1.80  133.500000   \n",
            "118                  99.0   25.000000              1.20  138.333333   \n",
            "\n",
            "     potassium  hemoglobin  white blood cell count  red blood cell count  \\\n",
            "26    3.400000       11.60                 10300.0              4.000000   \n",
            "55    4.300000        9.50                 10550.0              3.800000   \n",
            "72    4.200000       10.30                 10450.0              3.266667   \n",
            "99    3.900000       11.20                 10400.0              4.200000   \n",
            "100   3.800000       11.25                 10550.0              4.050000   \n",
            "101   5.700000       11.30                 10700.0              3.900000   \n",
            "108   4.200000       11.80                 10200.0              4.200000   \n",
            "109   4.000000       11.70                 10800.0              4.450000   \n",
            "114   4.550000       12.10                 10300.0              4.200000   \n",
            "118   4.233333       11.40                 10650.0              4.285714   \n",
            "\n",
            "     CLUSTER  Clusters  \n",
            "26         0         0  \n",
            "55         0         0  \n",
            "72         0         0  \n",
            "99         0         0  \n",
            "100        0         0  \n",
            "101        0         0  \n",
            "108        0         0  \n",
            "109        0         0  \n",
            "114        0         0  \n",
            "118        0         0  \n",
            "      age  blood_pressure  specific gravity  albumin  sugar  \\\n",
            "3    48.0            70.0             1.005      4.0    0.0   \n",
            "16   47.0            70.0             1.015      2.0    0.0   \n",
            "21   60.0            90.0             1.020      3.0    0.0   \n",
            "46   48.0            70.0             1.015      0.0    0.0   \n",
            "73   60.0           100.0             1.015      2.0    0.0   \n",
            "74   56.0            90.0             1.015      2.0    0.0   \n",
            "75    5.0            85.0             1.015      1.0    0.0   \n",
            "76   48.0            80.0             1.005      4.0    0.0   \n",
            "106  50.0            90.0             1.015      0.5    2.0   \n",
            "141  67.0            70.0             1.010      1.0    0.0   \n",
            "\n",
            "     blood glucose random  blood urea  serum creatinine  sodium  potassium  \\\n",
            "3                   117.0        56.0               3.8   111.0        2.5   \n",
            "16                   99.0        46.0               2.2   138.0        4.1   \n",
            "21                  134.0       180.0              76.0     4.5        4.5   \n",
            "46                  124.0        24.0               1.2   142.0        4.2   \n",
            "73                  129.0       107.0               6.7   132.0        4.4   \n",
            "74                  129.0       107.0               6.7   131.0        4.8   \n",
            "75                  131.0        16.0               0.7   138.0        3.2   \n",
            "76                  133.0       139.0               8.5   132.0        5.5   \n",
            "106                  89.0       118.0               6.1   127.0        4.4   \n",
            "141                 170.0       106.0               6.0   137.0        4.9   \n",
            "\n",
            "     hemoglobin  white blood cell count  red blood cell count  CLUSTER  \\\n",
            "3          11.2             6700.000000              3.900000        1   \n",
            "16         12.6             6333.333333              3.300000        1   \n",
            "21         10.9             6200.000000              3.600000        1   \n",
            "46         12.4             6400.000000              4.700000        1   \n",
            "73          4.8             6300.000000              3.333333        1   \n",
            "74          9.1             6400.000000              3.400000        1   \n",
            "75          8.1             6300.000000              3.700000        1   \n",
            "76         10.3             6200.000000              4.000000        1   \n",
            "106         6.0             6500.000000              4.800000        1   \n",
            "141         6.1             6500.000000              4.010000        1   \n",
            "\n",
            "     Clusters  \n",
            "3           1  \n",
            "16          1  \n",
            "21          1  \n",
            "46          1  \n",
            "73          1  \n",
            "74          1  \n",
            "75          1  \n",
            "76          1  \n",
            "106         1  \n",
            "141         1  \n",
            "      age  blood_pressure  specific gravity  albumin  sugar  \\\n",
            "48   73.0            70.0             1.005      0.0    0.0   \n",
            "181  45.0            70.0             1.025      2.0    0.0   \n",
            "\n",
            "     blood glucose random  blood urea  serum creatinine  sodium  potassium  \\\n",
            "48                   70.0        32.0               0.9   125.0        4.0   \n",
            "181                 117.0        52.0               2.2   136.0        3.8   \n",
            "\n",
            "     hemoglobin  white blood cell count  red blood cell count  CLUSTER  \\\n",
            "48         10.0                 18900.0                   3.5        0   \n",
            "181        10.0                 19100.0                   3.7        0   \n",
            "\n",
            "     Clusters  \n",
            "48          2  \n",
            "181         2  \n",
            "      age  blood_pressure  specific gravity  albumin  sugar  \\\n",
            "9    53.0            90.0             1.020      2.0    0.0   \n",
            "12   68.0            70.0             1.015      3.0    1.0   \n",
            "79   56.0            80.0             1.010      1.0    0.0   \n",
            "91   56.0            70.0             1.015      4.0    1.0   \n",
            "94   65.0            70.0             1.010      0.0    0.0   \n",
            "120  72.0            90.0             1.025      1.0    3.0   \n",
            "131   5.0            50.0             1.010      0.0    0.0   \n",
            "148  69.0            60.0             1.015      2.0    0.5   \n",
            "152  39.0            70.0             1.010      0.0    0.0   \n",
            "176  21.0            90.0             1.010      4.0    0.0   \n",
            "\n",
            "     blood glucose random  blood urea  serum creatinine  sodium  potassium  \\\n",
            "9                    70.0       107.0               7.2  114.00      3.700   \n",
            "12                  208.0        72.0               2.1  138.00      5.800   \n",
            "79                  165.0        55.0               1.8  137.00      4.250   \n",
            "91                  210.0        26.0               1.7  136.00      3.800   \n",
            "94                   93.0        66.0               1.6  137.00      4.500   \n",
            "120                 323.0        40.0               2.2  137.00      5.300   \n",
            "131                 173.5        25.0               0.6  135.00      4.650   \n",
            "148                 171.0        26.0              48.1  132.75      3.625   \n",
            "152                 121.0        20.0               0.8  133.00      3.500   \n",
            "176                 107.0        40.0               1.7  125.00      3.500   \n",
            "\n",
            "     hemoglobin  white blood cell count  red blood cell count  CLUSTER  \\\n",
            "9           9.5            12100.000000              3.700000        0   \n",
            "12          9.7            12200.000000              3.400000        0   \n",
            "79         13.5            11800.000000              5.000000        0   \n",
            "91         16.1            12500.000000              5.600000        0   \n",
            "94         11.6            11900.000000              3.900000        0   \n",
            "120        12.6            12350.000000              4.057143        0   \n",
            "131        11.8            12400.000000              2.700000        0   \n",
            "148         9.2            12366.666667              2.983333        0   \n",
            "152        10.9            11966.666667              2.916667        0   \n",
            "176         8.3            12400.000000              3.900000        0   \n",
            "\n",
            "     Clusters  \n",
            "9           3  \n",
            "12          3  \n",
            "79          3  \n",
            "91          3  \n",
            "94          3  \n",
            "120         3  \n",
            "131         3  \n",
            "148         3  \n",
            "152         3  \n",
            "176         3  \n"
          ]
        }
      ]
    },
    {
      "cell_type": "markdown",
      "source": [
        "## Interpretation\n",
        "\n",
        "With two clusters, agglomerative clustering produced the highest silhouette value of 56% (0.564).\n",
        "\n",
        "\n",
        "\n",
        "Clusters 3 give the highest silhouette value of 57% (0.578) for K-means clustering.\n",
        "\n",
        "Similarly, using the elbow method, cluster 3 had the best K value."
      ],
      "metadata": {
        "id": "Mq-tOrwHCqHX"
      }
    },
    {
      "cell_type": "code",
      "source": [],
      "metadata": {
        "id": "Nxe99NS6_-eF"
      },
      "execution_count": null,
      "outputs": []
    }
  ]
}